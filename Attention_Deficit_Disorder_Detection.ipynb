{
  "nbformat": 4,
  "nbformat_minor": 0,
  "metadata": {
    "colab": {
      "provenance": []
    },
    "kernelspec": {
      "name": "python3",
      "display_name": "Python 3"
    },
    "language_info": {
      "name": "python"
    },
    "widgets": {
      "application/vnd.jupyter.widget-state+json": {
        "05de863d35764b03aef73a36180c9083": {
          "model_module": "@jupyter-widgets/controls",
          "model_name": "HBoxModel",
          "model_module_version": "1.5.0",
          "state": {
            "_dom_classes": [],
            "_model_module": "@jupyter-widgets/controls",
            "_model_module_version": "1.5.0",
            "_model_name": "HBoxModel",
            "_view_count": null,
            "_view_module": "@jupyter-widgets/controls",
            "_view_module_version": "1.5.0",
            "_view_name": "HBoxView",
            "box_style": "",
            "children": [
              "IPY_MODEL_dd348840ed2f4c49b95a772009dd2a3e",
              "IPY_MODEL_089d4d5ca1334db292a79ea14b336ae5",
              "IPY_MODEL_32425b7fb6064b8ebb59944b7e296bb1"
            ],
            "layout": "IPY_MODEL_a9958b6137b84ef9a119ffaec6152517"
          }
        },
        "dd348840ed2f4c49b95a772009dd2a3e": {
          "model_module": "@jupyter-widgets/controls",
          "model_name": "HTMLModel",
          "model_module_version": "1.5.0",
          "state": {
            "_dom_classes": [],
            "_model_module": "@jupyter-widgets/controls",
            "_model_module_version": "1.5.0",
            "_model_name": "HTMLModel",
            "_view_count": null,
            "_view_module": "@jupyter-widgets/controls",
            "_view_module_version": "1.5.0",
            "_view_name": "HTMLView",
            "description": "",
            "description_tooltip": null,
            "layout": "IPY_MODEL_eafd47121729466a9215eeee6806024e",
            "placeholder": "​",
            "style": "IPY_MODEL_94180dc5679241e2a540234efa9edf81",
            "value": "100%"
          }
        },
        "089d4d5ca1334db292a79ea14b336ae5": {
          "model_module": "@jupyter-widgets/controls",
          "model_name": "FloatProgressModel",
          "model_module_version": "1.5.0",
          "state": {
            "_dom_classes": [],
            "_model_module": "@jupyter-widgets/controls",
            "_model_module_version": "1.5.0",
            "_model_name": "FloatProgressModel",
            "_view_count": null,
            "_view_module": "@jupyter-widgets/controls",
            "_view_module_version": "1.5.0",
            "_view_name": "ProgressView",
            "bar_style": "success",
            "description": "",
            "description_tooltip": null,
            "layout": "IPY_MODEL_72b965d5f2724a18b792e74779b4c6c0",
            "max": 121,
            "min": 0,
            "orientation": "horizontal",
            "style": "IPY_MODEL_06c8560fda7943fab6443149af89860e",
            "value": 121
          }
        },
        "32425b7fb6064b8ebb59944b7e296bb1": {
          "model_module": "@jupyter-widgets/controls",
          "model_name": "HTMLModel",
          "model_module_version": "1.5.0",
          "state": {
            "_dom_classes": [],
            "_model_module": "@jupyter-widgets/controls",
            "_model_module_version": "1.5.0",
            "_model_name": "HTMLModel",
            "_view_count": null,
            "_view_module": "@jupyter-widgets/controls",
            "_view_module_version": "1.5.0",
            "_view_name": "HTMLView",
            "description": "",
            "description_tooltip": null,
            "layout": "IPY_MODEL_9c8ba64b6e91481cbca944910f7e796f",
            "placeholder": "​",
            "style": "IPY_MODEL_9d8766234b3b4d9cb053f55e59e032f4",
            "value": " 121/121 [00:02&lt;00:00, 56.77it/s]"
          }
        },
        "a9958b6137b84ef9a119ffaec6152517": {
          "model_module": "@jupyter-widgets/base",
          "model_name": "LayoutModel",
          "model_module_version": "1.2.0",
          "state": {
            "_model_module": "@jupyter-widgets/base",
            "_model_module_version": "1.2.0",
            "_model_name": "LayoutModel",
            "_view_count": null,
            "_view_module": "@jupyter-widgets/base",
            "_view_module_version": "1.2.0",
            "_view_name": "LayoutView",
            "align_content": null,
            "align_items": null,
            "align_self": null,
            "border": null,
            "bottom": null,
            "display": null,
            "flex": null,
            "flex_flow": null,
            "grid_area": null,
            "grid_auto_columns": null,
            "grid_auto_flow": null,
            "grid_auto_rows": null,
            "grid_column": null,
            "grid_gap": null,
            "grid_row": null,
            "grid_template_areas": null,
            "grid_template_columns": null,
            "grid_template_rows": null,
            "height": null,
            "justify_content": null,
            "justify_items": null,
            "left": null,
            "margin": null,
            "max_height": null,
            "max_width": null,
            "min_height": null,
            "min_width": null,
            "object_fit": null,
            "object_position": null,
            "order": null,
            "overflow": null,
            "overflow_x": null,
            "overflow_y": null,
            "padding": null,
            "right": null,
            "top": null,
            "visibility": null,
            "width": null
          }
        },
        "eafd47121729466a9215eeee6806024e": {
          "model_module": "@jupyter-widgets/base",
          "model_name": "LayoutModel",
          "model_module_version": "1.2.0",
          "state": {
            "_model_module": "@jupyter-widgets/base",
            "_model_module_version": "1.2.0",
            "_model_name": "LayoutModel",
            "_view_count": null,
            "_view_module": "@jupyter-widgets/base",
            "_view_module_version": "1.2.0",
            "_view_name": "LayoutView",
            "align_content": null,
            "align_items": null,
            "align_self": null,
            "border": null,
            "bottom": null,
            "display": null,
            "flex": null,
            "flex_flow": null,
            "grid_area": null,
            "grid_auto_columns": null,
            "grid_auto_flow": null,
            "grid_auto_rows": null,
            "grid_column": null,
            "grid_gap": null,
            "grid_row": null,
            "grid_template_areas": null,
            "grid_template_columns": null,
            "grid_template_rows": null,
            "height": null,
            "justify_content": null,
            "justify_items": null,
            "left": null,
            "margin": null,
            "max_height": null,
            "max_width": null,
            "min_height": null,
            "min_width": null,
            "object_fit": null,
            "object_position": null,
            "order": null,
            "overflow": null,
            "overflow_x": null,
            "overflow_y": null,
            "padding": null,
            "right": null,
            "top": null,
            "visibility": null,
            "width": null
          }
        },
        "94180dc5679241e2a540234efa9edf81": {
          "model_module": "@jupyter-widgets/controls",
          "model_name": "DescriptionStyleModel",
          "model_module_version": "1.5.0",
          "state": {
            "_model_module": "@jupyter-widgets/controls",
            "_model_module_version": "1.5.0",
            "_model_name": "DescriptionStyleModel",
            "_view_count": null,
            "_view_module": "@jupyter-widgets/base",
            "_view_module_version": "1.2.0",
            "_view_name": "StyleView",
            "description_width": ""
          }
        },
        "72b965d5f2724a18b792e74779b4c6c0": {
          "model_module": "@jupyter-widgets/base",
          "model_name": "LayoutModel",
          "model_module_version": "1.2.0",
          "state": {
            "_model_module": "@jupyter-widgets/base",
            "_model_module_version": "1.2.0",
            "_model_name": "LayoutModel",
            "_view_count": null,
            "_view_module": "@jupyter-widgets/base",
            "_view_module_version": "1.2.0",
            "_view_name": "LayoutView",
            "align_content": null,
            "align_items": null,
            "align_self": null,
            "border": null,
            "bottom": null,
            "display": null,
            "flex": null,
            "flex_flow": null,
            "grid_area": null,
            "grid_auto_columns": null,
            "grid_auto_flow": null,
            "grid_auto_rows": null,
            "grid_column": null,
            "grid_gap": null,
            "grid_row": null,
            "grid_template_areas": null,
            "grid_template_columns": null,
            "grid_template_rows": null,
            "height": null,
            "justify_content": null,
            "justify_items": null,
            "left": null,
            "margin": null,
            "max_height": null,
            "max_width": null,
            "min_height": null,
            "min_width": null,
            "object_fit": null,
            "object_position": null,
            "order": null,
            "overflow": null,
            "overflow_x": null,
            "overflow_y": null,
            "padding": null,
            "right": null,
            "top": null,
            "visibility": null,
            "width": null
          }
        },
        "06c8560fda7943fab6443149af89860e": {
          "model_module": "@jupyter-widgets/controls",
          "model_name": "ProgressStyleModel",
          "model_module_version": "1.5.0",
          "state": {
            "_model_module": "@jupyter-widgets/controls",
            "_model_module_version": "1.5.0",
            "_model_name": "ProgressStyleModel",
            "_view_count": null,
            "_view_module": "@jupyter-widgets/base",
            "_view_module_version": "1.2.0",
            "_view_name": "StyleView",
            "bar_color": null,
            "description_width": ""
          }
        },
        "9c8ba64b6e91481cbca944910f7e796f": {
          "model_module": "@jupyter-widgets/base",
          "model_name": "LayoutModel",
          "model_module_version": "1.2.0",
          "state": {
            "_model_module": "@jupyter-widgets/base",
            "_model_module_version": "1.2.0",
            "_model_name": "LayoutModel",
            "_view_count": null,
            "_view_module": "@jupyter-widgets/base",
            "_view_module_version": "1.2.0",
            "_view_name": "LayoutView",
            "align_content": null,
            "align_items": null,
            "align_self": null,
            "border": null,
            "bottom": null,
            "display": null,
            "flex": null,
            "flex_flow": null,
            "grid_area": null,
            "grid_auto_columns": null,
            "grid_auto_flow": null,
            "grid_auto_rows": null,
            "grid_column": null,
            "grid_gap": null,
            "grid_row": null,
            "grid_template_areas": null,
            "grid_template_columns": null,
            "grid_template_rows": null,
            "height": null,
            "justify_content": null,
            "justify_items": null,
            "left": null,
            "margin": null,
            "max_height": null,
            "max_width": null,
            "min_height": null,
            "min_width": null,
            "object_fit": null,
            "object_position": null,
            "order": null,
            "overflow": null,
            "overflow_x": null,
            "overflow_y": null,
            "padding": null,
            "right": null,
            "top": null,
            "visibility": null,
            "width": null
          }
        },
        "9d8766234b3b4d9cb053f55e59e032f4": {
          "model_module": "@jupyter-widgets/controls",
          "model_name": "DescriptionStyleModel",
          "model_module_version": "1.5.0",
          "state": {
            "_model_module": "@jupyter-widgets/controls",
            "_model_module_version": "1.5.0",
            "_model_name": "DescriptionStyleModel",
            "_view_count": null,
            "_view_module": "@jupyter-widgets/base",
            "_view_module_version": "1.2.0",
            "_view_name": "StyleView",
            "description_width": ""
          }
        },
        "07ad2390e755483c94a56369858612f6": {
          "model_module": "@jupyter-widgets/controls",
          "model_name": "HBoxModel",
          "model_module_version": "1.5.0",
          "state": {
            "_dom_classes": [],
            "_model_module": "@jupyter-widgets/controls",
            "_model_module_version": "1.5.0",
            "_model_name": "HBoxModel",
            "_view_count": null,
            "_view_module": "@jupyter-widgets/controls",
            "_view_module_version": "1.5.0",
            "_view_name": "HBoxView",
            "box_style": "",
            "children": [
              "IPY_MODEL_7d55e31546974c679997f58e2d8e7c60",
              "IPY_MODEL_b15b3b6c75d1495fbc7a6b6fd329ca39",
              "IPY_MODEL_8b06adcc049d4cfb8fdfad266da5bfe1"
            ],
            "layout": "IPY_MODEL_9e00b84826df4e71b4ebc249055a3315"
          }
        },
        "7d55e31546974c679997f58e2d8e7c60": {
          "model_module": "@jupyter-widgets/controls",
          "model_name": "HTMLModel",
          "model_module_version": "1.5.0",
          "state": {
            "_dom_classes": [],
            "_model_module": "@jupyter-widgets/controls",
            "_model_module_version": "1.5.0",
            "_model_name": "HTMLModel",
            "_view_count": null,
            "_view_module": "@jupyter-widgets/controls",
            "_view_module_version": "1.5.0",
            "_view_name": "HTMLView",
            "description": "",
            "description_tooltip": null,
            "layout": "IPY_MODEL_07a80abad3194823adf1f3e573a07cfc",
            "placeholder": "​",
            "style": "IPY_MODEL_a659267f53bd4217b15b0f09a6030fd2",
            "value": "100%"
          }
        },
        "b15b3b6c75d1495fbc7a6b6fd329ca39": {
          "model_module": "@jupyter-widgets/controls",
          "model_name": "FloatProgressModel",
          "model_module_version": "1.5.0",
          "state": {
            "_dom_classes": [],
            "_model_module": "@jupyter-widgets/controls",
            "_model_module_version": "1.5.0",
            "_model_name": "FloatProgressModel",
            "_view_count": null,
            "_view_module": "@jupyter-widgets/controls",
            "_view_module_version": "1.5.0",
            "_view_name": "ProgressView",
            "bar_style": "success",
            "description": "",
            "description_tooltip": null,
            "layout": "IPY_MODEL_72e149ae34c7479d9ed3baa32ce1b607",
            "max": 121,
            "min": 0,
            "orientation": "horizontal",
            "style": "IPY_MODEL_5f0686ef939740298b1769aee528f0cb",
            "value": 121
          }
        },
        "8b06adcc049d4cfb8fdfad266da5bfe1": {
          "model_module": "@jupyter-widgets/controls",
          "model_name": "HTMLModel",
          "model_module_version": "1.5.0",
          "state": {
            "_dom_classes": [],
            "_model_module": "@jupyter-widgets/controls",
            "_model_module_version": "1.5.0",
            "_model_name": "HTMLModel",
            "_view_count": null,
            "_view_module": "@jupyter-widgets/controls",
            "_view_module_version": "1.5.0",
            "_view_name": "HTMLView",
            "description": "",
            "description_tooltip": null,
            "layout": "IPY_MODEL_2cb4aa43e8b140d29098e1ce99e0245d",
            "placeholder": "​",
            "style": "IPY_MODEL_1e1468b7718c46a6b3f03415c31a8404",
            "value": " 121/121 [00:05&lt;00:00, 27.53it/s]"
          }
        },
        "9e00b84826df4e71b4ebc249055a3315": {
          "model_module": "@jupyter-widgets/base",
          "model_name": "LayoutModel",
          "model_module_version": "1.2.0",
          "state": {
            "_model_module": "@jupyter-widgets/base",
            "_model_module_version": "1.2.0",
            "_model_name": "LayoutModel",
            "_view_count": null,
            "_view_module": "@jupyter-widgets/base",
            "_view_module_version": "1.2.0",
            "_view_name": "LayoutView",
            "align_content": null,
            "align_items": null,
            "align_self": null,
            "border": null,
            "bottom": null,
            "display": null,
            "flex": null,
            "flex_flow": null,
            "grid_area": null,
            "grid_auto_columns": null,
            "grid_auto_flow": null,
            "grid_auto_rows": null,
            "grid_column": null,
            "grid_gap": null,
            "grid_row": null,
            "grid_template_areas": null,
            "grid_template_columns": null,
            "grid_template_rows": null,
            "height": null,
            "justify_content": null,
            "justify_items": null,
            "left": null,
            "margin": null,
            "max_height": null,
            "max_width": null,
            "min_height": null,
            "min_width": null,
            "object_fit": null,
            "object_position": null,
            "order": null,
            "overflow": null,
            "overflow_x": null,
            "overflow_y": null,
            "padding": null,
            "right": null,
            "top": null,
            "visibility": null,
            "width": null
          }
        },
        "07a80abad3194823adf1f3e573a07cfc": {
          "model_module": "@jupyter-widgets/base",
          "model_name": "LayoutModel",
          "model_module_version": "1.2.0",
          "state": {
            "_model_module": "@jupyter-widgets/base",
            "_model_module_version": "1.2.0",
            "_model_name": "LayoutModel",
            "_view_count": null,
            "_view_module": "@jupyter-widgets/base",
            "_view_module_version": "1.2.0",
            "_view_name": "LayoutView",
            "align_content": null,
            "align_items": null,
            "align_self": null,
            "border": null,
            "bottom": null,
            "display": null,
            "flex": null,
            "flex_flow": null,
            "grid_area": null,
            "grid_auto_columns": null,
            "grid_auto_flow": null,
            "grid_auto_rows": null,
            "grid_column": null,
            "grid_gap": null,
            "grid_row": null,
            "grid_template_areas": null,
            "grid_template_columns": null,
            "grid_template_rows": null,
            "height": null,
            "justify_content": null,
            "justify_items": null,
            "left": null,
            "margin": null,
            "max_height": null,
            "max_width": null,
            "min_height": null,
            "min_width": null,
            "object_fit": null,
            "object_position": null,
            "order": null,
            "overflow": null,
            "overflow_x": null,
            "overflow_y": null,
            "padding": null,
            "right": null,
            "top": null,
            "visibility": null,
            "width": null
          }
        },
        "a659267f53bd4217b15b0f09a6030fd2": {
          "model_module": "@jupyter-widgets/controls",
          "model_name": "DescriptionStyleModel",
          "model_module_version": "1.5.0",
          "state": {
            "_model_module": "@jupyter-widgets/controls",
            "_model_module_version": "1.5.0",
            "_model_name": "DescriptionStyleModel",
            "_view_count": null,
            "_view_module": "@jupyter-widgets/base",
            "_view_module_version": "1.2.0",
            "_view_name": "StyleView",
            "description_width": ""
          }
        },
        "72e149ae34c7479d9ed3baa32ce1b607": {
          "model_module": "@jupyter-widgets/base",
          "model_name": "LayoutModel",
          "model_module_version": "1.2.0",
          "state": {
            "_model_module": "@jupyter-widgets/base",
            "_model_module_version": "1.2.0",
            "_model_name": "LayoutModel",
            "_view_count": null,
            "_view_module": "@jupyter-widgets/base",
            "_view_module_version": "1.2.0",
            "_view_name": "LayoutView",
            "align_content": null,
            "align_items": null,
            "align_self": null,
            "border": null,
            "bottom": null,
            "display": null,
            "flex": null,
            "flex_flow": null,
            "grid_area": null,
            "grid_auto_columns": null,
            "grid_auto_flow": null,
            "grid_auto_rows": null,
            "grid_column": null,
            "grid_gap": null,
            "grid_row": null,
            "grid_template_areas": null,
            "grid_template_columns": null,
            "grid_template_rows": null,
            "height": null,
            "justify_content": null,
            "justify_items": null,
            "left": null,
            "margin": null,
            "max_height": null,
            "max_width": null,
            "min_height": null,
            "min_width": null,
            "object_fit": null,
            "object_position": null,
            "order": null,
            "overflow": null,
            "overflow_x": null,
            "overflow_y": null,
            "padding": null,
            "right": null,
            "top": null,
            "visibility": null,
            "width": null
          }
        },
        "5f0686ef939740298b1769aee528f0cb": {
          "model_module": "@jupyter-widgets/controls",
          "model_name": "ProgressStyleModel",
          "model_module_version": "1.5.0",
          "state": {
            "_model_module": "@jupyter-widgets/controls",
            "_model_module_version": "1.5.0",
            "_model_name": "ProgressStyleModel",
            "_view_count": null,
            "_view_module": "@jupyter-widgets/base",
            "_view_module_version": "1.2.0",
            "_view_name": "StyleView",
            "bar_color": null,
            "description_width": ""
          }
        },
        "2cb4aa43e8b140d29098e1ce99e0245d": {
          "model_module": "@jupyter-widgets/base",
          "model_name": "LayoutModel",
          "model_module_version": "1.2.0",
          "state": {
            "_model_module": "@jupyter-widgets/base",
            "_model_module_version": "1.2.0",
            "_model_name": "LayoutModel",
            "_view_count": null,
            "_view_module": "@jupyter-widgets/base",
            "_view_module_version": "1.2.0",
            "_view_name": "LayoutView",
            "align_content": null,
            "align_items": null,
            "align_self": null,
            "border": null,
            "bottom": null,
            "display": null,
            "flex": null,
            "flex_flow": null,
            "grid_area": null,
            "grid_auto_columns": null,
            "grid_auto_flow": null,
            "grid_auto_rows": null,
            "grid_column": null,
            "grid_gap": null,
            "grid_row": null,
            "grid_template_areas": null,
            "grid_template_columns": null,
            "grid_template_rows": null,
            "height": null,
            "justify_content": null,
            "justify_items": null,
            "left": null,
            "margin": null,
            "max_height": null,
            "max_width": null,
            "min_height": null,
            "min_width": null,
            "object_fit": null,
            "object_position": null,
            "order": null,
            "overflow": null,
            "overflow_x": null,
            "overflow_y": null,
            "padding": null,
            "right": null,
            "top": null,
            "visibility": null,
            "width": null
          }
        },
        "1e1468b7718c46a6b3f03415c31a8404": {
          "model_module": "@jupyter-widgets/controls",
          "model_name": "DescriptionStyleModel",
          "model_module_version": "1.5.0",
          "state": {
            "_model_module": "@jupyter-widgets/controls",
            "_model_module_version": "1.5.0",
            "_model_name": "DescriptionStyleModel",
            "_view_count": null,
            "_view_module": "@jupyter-widgets/base",
            "_view_module_version": "1.2.0",
            "_view_name": "StyleView",
            "description_width": ""
          }
        },
        "e3c9369c7690480483719234cb42b98c": {
          "model_module": "@jupyter-widgets/controls",
          "model_name": "HBoxModel",
          "model_module_version": "1.5.0",
          "state": {
            "_dom_classes": [],
            "_model_module": "@jupyter-widgets/controls",
            "_model_module_version": "1.5.0",
            "_model_name": "HBoxModel",
            "_view_count": null,
            "_view_module": "@jupyter-widgets/controls",
            "_view_module_version": "1.5.0",
            "_view_name": "HBoxView",
            "box_style": "",
            "children": [
              "IPY_MODEL_b2335071adae41488e664b61c89555f4",
              "IPY_MODEL_0270837b19d34bb4a6f9f04923914ec3",
              "IPY_MODEL_4a0c4cb618344e33bebb3ae1446c1ea2"
            ],
            "layout": "IPY_MODEL_262af6332eb84709a8fcb48d61a4bfa4"
          }
        },
        "b2335071adae41488e664b61c89555f4": {
          "model_module": "@jupyter-widgets/controls",
          "model_name": "HTMLModel",
          "model_module_version": "1.5.0",
          "state": {
            "_dom_classes": [],
            "_model_module": "@jupyter-widgets/controls",
            "_model_module_version": "1.5.0",
            "_model_name": "HTMLModel",
            "_view_count": null,
            "_view_module": "@jupyter-widgets/controls",
            "_view_module_version": "1.5.0",
            "_view_name": "HTMLView",
            "description": "",
            "description_tooltip": null,
            "layout": "IPY_MODEL_fa2c5ccacc79413a9ae3da89c5741dc3",
            "placeholder": "​",
            "style": "IPY_MODEL_4dadb99b92a64b889acd02d1b8134233",
            "value": "100%"
          }
        },
        "0270837b19d34bb4a6f9f04923914ec3": {
          "model_module": "@jupyter-widgets/controls",
          "model_name": "FloatProgressModel",
          "model_module_version": "1.5.0",
          "state": {
            "_dom_classes": [],
            "_model_module": "@jupyter-widgets/controls",
            "_model_module_version": "1.5.0",
            "_model_name": "FloatProgressModel",
            "_view_count": null,
            "_view_module": "@jupyter-widgets/controls",
            "_view_module_version": "1.5.0",
            "_view_name": "ProgressView",
            "bar_style": "success",
            "description": "",
            "description_tooltip": null,
            "layout": "IPY_MODEL_4e5a9a69c2c741e9945d5917b51d1549",
            "max": 97,
            "min": 0,
            "orientation": "horizontal",
            "style": "IPY_MODEL_e4232438863949f39eac80587096a777",
            "value": 97
          }
        },
        "4a0c4cb618344e33bebb3ae1446c1ea2": {
          "model_module": "@jupyter-widgets/controls",
          "model_name": "HTMLModel",
          "model_module_version": "1.5.0",
          "state": {
            "_dom_classes": [],
            "_model_module": "@jupyter-widgets/controls",
            "_model_module_version": "1.5.0",
            "_model_name": "HTMLModel",
            "_view_count": null,
            "_view_module": "@jupyter-widgets/controls",
            "_view_module_version": "1.5.0",
            "_view_name": "HTMLView",
            "description": "",
            "description_tooltip": null,
            "layout": "IPY_MODEL_95471fb89a0345179391c2c7e6361b7d",
            "placeholder": "​",
            "style": "IPY_MODEL_31c2e58c6c844fde8df89e2249337ab0",
            "value": " 97/97 [00:02&lt;00:00, 38.99it/s]"
          }
        },
        "262af6332eb84709a8fcb48d61a4bfa4": {
          "model_module": "@jupyter-widgets/base",
          "model_name": "LayoutModel",
          "model_module_version": "1.2.0",
          "state": {
            "_model_module": "@jupyter-widgets/base",
            "_model_module_version": "1.2.0",
            "_model_name": "LayoutModel",
            "_view_count": null,
            "_view_module": "@jupyter-widgets/base",
            "_view_module_version": "1.2.0",
            "_view_name": "LayoutView",
            "align_content": null,
            "align_items": null,
            "align_self": null,
            "border": null,
            "bottom": null,
            "display": null,
            "flex": null,
            "flex_flow": null,
            "grid_area": null,
            "grid_auto_columns": null,
            "grid_auto_flow": null,
            "grid_auto_rows": null,
            "grid_column": null,
            "grid_gap": null,
            "grid_row": null,
            "grid_template_areas": null,
            "grid_template_columns": null,
            "grid_template_rows": null,
            "height": null,
            "justify_content": null,
            "justify_items": null,
            "left": null,
            "margin": null,
            "max_height": null,
            "max_width": null,
            "min_height": null,
            "min_width": null,
            "object_fit": null,
            "object_position": null,
            "order": null,
            "overflow": null,
            "overflow_x": null,
            "overflow_y": null,
            "padding": null,
            "right": null,
            "top": null,
            "visibility": null,
            "width": null
          }
        },
        "fa2c5ccacc79413a9ae3da89c5741dc3": {
          "model_module": "@jupyter-widgets/base",
          "model_name": "LayoutModel",
          "model_module_version": "1.2.0",
          "state": {
            "_model_module": "@jupyter-widgets/base",
            "_model_module_version": "1.2.0",
            "_model_name": "LayoutModel",
            "_view_count": null,
            "_view_module": "@jupyter-widgets/base",
            "_view_module_version": "1.2.0",
            "_view_name": "LayoutView",
            "align_content": null,
            "align_items": null,
            "align_self": null,
            "border": null,
            "bottom": null,
            "display": null,
            "flex": null,
            "flex_flow": null,
            "grid_area": null,
            "grid_auto_columns": null,
            "grid_auto_flow": null,
            "grid_auto_rows": null,
            "grid_column": null,
            "grid_gap": null,
            "grid_row": null,
            "grid_template_areas": null,
            "grid_template_columns": null,
            "grid_template_rows": null,
            "height": null,
            "justify_content": null,
            "justify_items": null,
            "left": null,
            "margin": null,
            "max_height": null,
            "max_width": null,
            "min_height": null,
            "min_width": null,
            "object_fit": null,
            "object_position": null,
            "order": null,
            "overflow": null,
            "overflow_x": null,
            "overflow_y": null,
            "padding": null,
            "right": null,
            "top": null,
            "visibility": null,
            "width": null
          }
        },
        "4dadb99b92a64b889acd02d1b8134233": {
          "model_module": "@jupyter-widgets/controls",
          "model_name": "DescriptionStyleModel",
          "model_module_version": "1.5.0",
          "state": {
            "_model_module": "@jupyter-widgets/controls",
            "_model_module_version": "1.5.0",
            "_model_name": "DescriptionStyleModel",
            "_view_count": null,
            "_view_module": "@jupyter-widgets/base",
            "_view_module_version": "1.2.0",
            "_view_name": "StyleView",
            "description_width": ""
          }
        },
        "4e5a9a69c2c741e9945d5917b51d1549": {
          "model_module": "@jupyter-widgets/base",
          "model_name": "LayoutModel",
          "model_module_version": "1.2.0",
          "state": {
            "_model_module": "@jupyter-widgets/base",
            "_model_module_version": "1.2.0",
            "_model_name": "LayoutModel",
            "_view_count": null,
            "_view_module": "@jupyter-widgets/base",
            "_view_module_version": "1.2.0",
            "_view_name": "LayoutView",
            "align_content": null,
            "align_items": null,
            "align_self": null,
            "border": null,
            "bottom": null,
            "display": null,
            "flex": null,
            "flex_flow": null,
            "grid_area": null,
            "grid_auto_columns": null,
            "grid_auto_flow": null,
            "grid_auto_rows": null,
            "grid_column": null,
            "grid_gap": null,
            "grid_row": null,
            "grid_template_areas": null,
            "grid_template_columns": null,
            "grid_template_rows": null,
            "height": null,
            "justify_content": null,
            "justify_items": null,
            "left": null,
            "margin": null,
            "max_height": null,
            "max_width": null,
            "min_height": null,
            "min_width": null,
            "object_fit": null,
            "object_position": null,
            "order": null,
            "overflow": null,
            "overflow_x": null,
            "overflow_y": null,
            "padding": null,
            "right": null,
            "top": null,
            "visibility": null,
            "width": null
          }
        },
        "e4232438863949f39eac80587096a777": {
          "model_module": "@jupyter-widgets/controls",
          "model_name": "ProgressStyleModel",
          "model_module_version": "1.5.0",
          "state": {
            "_model_module": "@jupyter-widgets/controls",
            "_model_module_version": "1.5.0",
            "_model_name": "ProgressStyleModel",
            "_view_count": null,
            "_view_module": "@jupyter-widgets/base",
            "_view_module_version": "1.2.0",
            "_view_name": "StyleView",
            "bar_color": null,
            "description_width": ""
          }
        },
        "95471fb89a0345179391c2c7e6361b7d": {
          "model_module": "@jupyter-widgets/base",
          "model_name": "LayoutModel",
          "model_module_version": "1.2.0",
          "state": {
            "_model_module": "@jupyter-widgets/base",
            "_model_module_version": "1.2.0",
            "_model_name": "LayoutModel",
            "_view_count": null,
            "_view_module": "@jupyter-widgets/base",
            "_view_module_version": "1.2.0",
            "_view_name": "LayoutView",
            "align_content": null,
            "align_items": null,
            "align_self": null,
            "border": null,
            "bottom": null,
            "display": null,
            "flex": null,
            "flex_flow": null,
            "grid_area": null,
            "grid_auto_columns": null,
            "grid_auto_flow": null,
            "grid_auto_rows": null,
            "grid_column": null,
            "grid_gap": null,
            "grid_row": null,
            "grid_template_areas": null,
            "grid_template_columns": null,
            "grid_template_rows": null,
            "height": null,
            "justify_content": null,
            "justify_items": null,
            "left": null,
            "margin": null,
            "max_height": null,
            "max_width": null,
            "min_height": null,
            "min_width": null,
            "object_fit": null,
            "object_position": null,
            "order": null,
            "overflow": null,
            "overflow_x": null,
            "overflow_y": null,
            "padding": null,
            "right": null,
            "top": null,
            "visibility": null,
            "width": null
          }
        },
        "31c2e58c6c844fde8df89e2249337ab0": {
          "model_module": "@jupyter-widgets/controls",
          "model_name": "DescriptionStyleModel",
          "model_module_version": "1.5.0",
          "state": {
            "_model_module": "@jupyter-widgets/controls",
            "_model_module_version": "1.5.0",
            "_model_name": "DescriptionStyleModel",
            "_view_count": null,
            "_view_module": "@jupyter-widgets/base",
            "_view_module_version": "1.2.0",
            "_view_name": "StyleView",
            "description_width": ""
          }
        },
        "e54c030fa67b415e8dbf93ef3f009001": {
          "model_module": "@jupyter-widgets/controls",
          "model_name": "HBoxModel",
          "model_module_version": "1.5.0",
          "state": {
            "_dom_classes": [],
            "_model_module": "@jupyter-widgets/controls",
            "_model_module_version": "1.5.0",
            "_model_name": "HBoxModel",
            "_view_count": null,
            "_view_module": "@jupyter-widgets/controls",
            "_view_module_version": "1.5.0",
            "_view_name": "HBoxView",
            "box_style": "",
            "children": [
              "IPY_MODEL_a0ecb1de107b4fbbb6142e67e170d660",
              "IPY_MODEL_307ac2065a1e42e5bd50e67ebd773f96",
              "IPY_MODEL_0708dcd334104581acf10c83169a3496"
            ],
            "layout": "IPY_MODEL_2c8e48dad1f34a5e9a9f107fc1ca2be8"
          }
        },
        "a0ecb1de107b4fbbb6142e67e170d660": {
          "model_module": "@jupyter-widgets/controls",
          "model_name": "HTMLModel",
          "model_module_version": "1.5.0",
          "state": {
            "_dom_classes": [],
            "_model_module": "@jupyter-widgets/controls",
            "_model_module_version": "1.5.0",
            "_model_name": "HTMLModel",
            "_view_count": null,
            "_view_module": "@jupyter-widgets/controls",
            "_view_module_version": "1.5.0",
            "_view_name": "HTMLView",
            "description": "",
            "description_tooltip": null,
            "layout": "IPY_MODEL_1b1f59ec55a44f60b091bf76f7618691",
            "placeholder": "​",
            "style": "IPY_MODEL_64cb68cd70b8426b8d0ae50497d41a4f",
            "value": "100%"
          }
        },
        "307ac2065a1e42e5bd50e67ebd773f96": {
          "model_module": "@jupyter-widgets/controls",
          "model_name": "FloatProgressModel",
          "model_module_version": "1.5.0",
          "state": {
            "_dom_classes": [],
            "_model_module": "@jupyter-widgets/controls",
            "_model_module_version": "1.5.0",
            "_model_name": "FloatProgressModel",
            "_view_count": null,
            "_view_module": "@jupyter-widgets/controls",
            "_view_module_version": "1.5.0",
            "_view_name": "ProgressView",
            "bar_style": "success",
            "description": "",
            "description_tooltip": null,
            "layout": "IPY_MODEL_6f4f4da28f364027b99b318af0d3ff4e",
            "max": 97,
            "min": 0,
            "orientation": "horizontal",
            "style": "IPY_MODEL_09cecacd290e46c9bb845f3bece12503",
            "value": 97
          }
        },
        "0708dcd334104581acf10c83169a3496": {
          "model_module": "@jupyter-widgets/controls",
          "model_name": "HTMLModel",
          "model_module_version": "1.5.0",
          "state": {
            "_dom_classes": [],
            "_model_module": "@jupyter-widgets/controls",
            "_model_module_version": "1.5.0",
            "_model_name": "HTMLModel",
            "_view_count": null,
            "_view_module": "@jupyter-widgets/controls",
            "_view_module_version": "1.5.0",
            "_view_name": "HTMLView",
            "description": "",
            "description_tooltip": null,
            "layout": "IPY_MODEL_c7880de0a3be4d8b8f11c5376b544194",
            "placeholder": "​",
            "style": "IPY_MODEL_6c0933f430e84452ae8379457cf07961",
            "value": " 97/97 [00:03&lt;00:00, 31.68it/s]"
          }
        },
        "2c8e48dad1f34a5e9a9f107fc1ca2be8": {
          "model_module": "@jupyter-widgets/base",
          "model_name": "LayoutModel",
          "model_module_version": "1.2.0",
          "state": {
            "_model_module": "@jupyter-widgets/base",
            "_model_module_version": "1.2.0",
            "_model_name": "LayoutModel",
            "_view_count": null,
            "_view_module": "@jupyter-widgets/base",
            "_view_module_version": "1.2.0",
            "_view_name": "LayoutView",
            "align_content": null,
            "align_items": null,
            "align_self": null,
            "border": null,
            "bottom": null,
            "display": null,
            "flex": null,
            "flex_flow": null,
            "grid_area": null,
            "grid_auto_columns": null,
            "grid_auto_flow": null,
            "grid_auto_rows": null,
            "grid_column": null,
            "grid_gap": null,
            "grid_row": null,
            "grid_template_areas": null,
            "grid_template_columns": null,
            "grid_template_rows": null,
            "height": null,
            "justify_content": null,
            "justify_items": null,
            "left": null,
            "margin": null,
            "max_height": null,
            "max_width": null,
            "min_height": null,
            "min_width": null,
            "object_fit": null,
            "object_position": null,
            "order": null,
            "overflow": null,
            "overflow_x": null,
            "overflow_y": null,
            "padding": null,
            "right": null,
            "top": null,
            "visibility": null,
            "width": null
          }
        },
        "1b1f59ec55a44f60b091bf76f7618691": {
          "model_module": "@jupyter-widgets/base",
          "model_name": "LayoutModel",
          "model_module_version": "1.2.0",
          "state": {
            "_model_module": "@jupyter-widgets/base",
            "_model_module_version": "1.2.0",
            "_model_name": "LayoutModel",
            "_view_count": null,
            "_view_module": "@jupyter-widgets/base",
            "_view_module_version": "1.2.0",
            "_view_name": "LayoutView",
            "align_content": null,
            "align_items": null,
            "align_self": null,
            "border": null,
            "bottom": null,
            "display": null,
            "flex": null,
            "flex_flow": null,
            "grid_area": null,
            "grid_auto_columns": null,
            "grid_auto_flow": null,
            "grid_auto_rows": null,
            "grid_column": null,
            "grid_gap": null,
            "grid_row": null,
            "grid_template_areas": null,
            "grid_template_columns": null,
            "grid_template_rows": null,
            "height": null,
            "justify_content": null,
            "justify_items": null,
            "left": null,
            "margin": null,
            "max_height": null,
            "max_width": null,
            "min_height": null,
            "min_width": null,
            "object_fit": null,
            "object_position": null,
            "order": null,
            "overflow": null,
            "overflow_x": null,
            "overflow_y": null,
            "padding": null,
            "right": null,
            "top": null,
            "visibility": null,
            "width": null
          }
        },
        "64cb68cd70b8426b8d0ae50497d41a4f": {
          "model_module": "@jupyter-widgets/controls",
          "model_name": "DescriptionStyleModel",
          "model_module_version": "1.5.0",
          "state": {
            "_model_module": "@jupyter-widgets/controls",
            "_model_module_version": "1.5.0",
            "_model_name": "DescriptionStyleModel",
            "_view_count": null,
            "_view_module": "@jupyter-widgets/base",
            "_view_module_version": "1.2.0",
            "_view_name": "StyleView",
            "description_width": ""
          }
        },
        "6f4f4da28f364027b99b318af0d3ff4e": {
          "model_module": "@jupyter-widgets/base",
          "model_name": "LayoutModel",
          "model_module_version": "1.2.0",
          "state": {
            "_model_module": "@jupyter-widgets/base",
            "_model_module_version": "1.2.0",
            "_model_name": "LayoutModel",
            "_view_count": null,
            "_view_module": "@jupyter-widgets/base",
            "_view_module_version": "1.2.0",
            "_view_name": "LayoutView",
            "align_content": null,
            "align_items": null,
            "align_self": null,
            "border": null,
            "bottom": null,
            "display": null,
            "flex": null,
            "flex_flow": null,
            "grid_area": null,
            "grid_auto_columns": null,
            "grid_auto_flow": null,
            "grid_auto_rows": null,
            "grid_column": null,
            "grid_gap": null,
            "grid_row": null,
            "grid_template_areas": null,
            "grid_template_columns": null,
            "grid_template_rows": null,
            "height": null,
            "justify_content": null,
            "justify_items": null,
            "left": null,
            "margin": null,
            "max_height": null,
            "max_width": null,
            "min_height": null,
            "min_width": null,
            "object_fit": null,
            "object_position": null,
            "order": null,
            "overflow": null,
            "overflow_x": null,
            "overflow_y": null,
            "padding": null,
            "right": null,
            "top": null,
            "visibility": null,
            "width": null
          }
        },
        "09cecacd290e46c9bb845f3bece12503": {
          "model_module": "@jupyter-widgets/controls",
          "model_name": "ProgressStyleModel",
          "model_module_version": "1.5.0",
          "state": {
            "_model_module": "@jupyter-widgets/controls",
            "_model_module_version": "1.5.0",
            "_model_name": "ProgressStyleModel",
            "_view_count": null,
            "_view_module": "@jupyter-widgets/base",
            "_view_module_version": "1.2.0",
            "_view_name": "StyleView",
            "bar_color": null,
            "description_width": ""
          }
        },
        "c7880de0a3be4d8b8f11c5376b544194": {
          "model_module": "@jupyter-widgets/base",
          "model_name": "LayoutModel",
          "model_module_version": "1.2.0",
          "state": {
            "_model_module": "@jupyter-widgets/base",
            "_model_module_version": "1.2.0",
            "_model_name": "LayoutModel",
            "_view_count": null,
            "_view_module": "@jupyter-widgets/base",
            "_view_module_version": "1.2.0",
            "_view_name": "LayoutView",
            "align_content": null,
            "align_items": null,
            "align_self": null,
            "border": null,
            "bottom": null,
            "display": null,
            "flex": null,
            "flex_flow": null,
            "grid_area": null,
            "grid_auto_columns": null,
            "grid_auto_flow": null,
            "grid_auto_rows": null,
            "grid_column": null,
            "grid_gap": null,
            "grid_row": null,
            "grid_template_areas": null,
            "grid_template_columns": null,
            "grid_template_rows": null,
            "height": null,
            "justify_content": null,
            "justify_items": null,
            "left": null,
            "margin": null,
            "max_height": null,
            "max_width": null,
            "min_height": null,
            "min_width": null,
            "object_fit": null,
            "object_position": null,
            "order": null,
            "overflow": null,
            "overflow_x": null,
            "overflow_y": null,
            "padding": null,
            "right": null,
            "top": null,
            "visibility": null,
            "width": null
          }
        },
        "6c0933f430e84452ae8379457cf07961": {
          "model_module": "@jupyter-widgets/controls",
          "model_name": "DescriptionStyleModel",
          "model_module_version": "1.5.0",
          "state": {
            "_model_module": "@jupyter-widgets/controls",
            "_model_module_version": "1.5.0",
            "_model_name": "DescriptionStyleModel",
            "_view_count": null,
            "_view_module": "@jupyter-widgets/base",
            "_view_module_version": "1.2.0",
            "_view_name": "StyleView",
            "description_width": ""
          }
        },
        "eb69e6d39f14426f817a4fa1c0a7c93e": {
          "model_module": "@jupyter-widgets/controls",
          "model_name": "HBoxModel",
          "model_module_version": "1.5.0",
          "state": {
            "_dom_classes": [],
            "_model_module": "@jupyter-widgets/controls",
            "_model_module_version": "1.5.0",
            "_model_name": "HBoxModel",
            "_view_count": null,
            "_view_module": "@jupyter-widgets/controls",
            "_view_module_version": "1.5.0",
            "_view_name": "HBoxView",
            "box_style": "",
            "children": [
              "IPY_MODEL_6b55bad82721423f87315883986de554",
              "IPY_MODEL_265ef0f78b56467297fd817a7a9c9df2",
              "IPY_MODEL_1eee848f4acc4a93b091e58c62b0277f"
            ],
            "layout": "IPY_MODEL_61bc6c77aab543189cfb8f46483dacd2"
          }
        },
        "6b55bad82721423f87315883986de554": {
          "model_module": "@jupyter-widgets/controls",
          "model_name": "HTMLModel",
          "model_module_version": "1.5.0",
          "state": {
            "_dom_classes": [],
            "_model_module": "@jupyter-widgets/controls",
            "_model_module_version": "1.5.0",
            "_model_name": "HTMLModel",
            "_view_count": null,
            "_view_module": "@jupyter-widgets/controls",
            "_view_module_version": "1.5.0",
            "_view_name": "HTMLView",
            "description": "",
            "description_tooltip": null,
            "layout": "IPY_MODEL_8aefed3ed7c74d61ac35e4e989c8da95",
            "placeholder": "​",
            "style": "IPY_MODEL_10697f73569747eea251c87857d4d2c3",
            "value": "100%"
          }
        },
        "265ef0f78b56467297fd817a7a9c9df2": {
          "model_module": "@jupyter-widgets/controls",
          "model_name": "FloatProgressModel",
          "model_module_version": "1.5.0",
          "state": {
            "_dom_classes": [],
            "_model_module": "@jupyter-widgets/controls",
            "_model_module_version": "1.5.0",
            "_model_name": "FloatProgressModel",
            "_view_count": null,
            "_view_module": "@jupyter-widgets/controls",
            "_view_module_version": "1.5.0",
            "_view_name": "ProgressView",
            "bar_style": "success",
            "description": "",
            "description_tooltip": null,
            "layout": "IPY_MODEL_47fb37cccc4e46c595266d18c0876ecd",
            "max": 24,
            "min": 0,
            "orientation": "horizontal",
            "style": "IPY_MODEL_31256f61290a4d49a4dfefda9d1d288e",
            "value": 24
          }
        },
        "1eee848f4acc4a93b091e58c62b0277f": {
          "model_module": "@jupyter-widgets/controls",
          "model_name": "HTMLModel",
          "model_module_version": "1.5.0",
          "state": {
            "_dom_classes": [],
            "_model_module": "@jupyter-widgets/controls",
            "_model_module_version": "1.5.0",
            "_model_name": "HTMLModel",
            "_view_count": null,
            "_view_module": "@jupyter-widgets/controls",
            "_view_module_version": "1.5.0",
            "_view_name": "HTMLView",
            "description": "",
            "description_tooltip": null,
            "layout": "IPY_MODEL_f8b0f5d796804e5d9b4585bd7cff3dd7",
            "placeholder": "​",
            "style": "IPY_MODEL_18ae46cf947446808994dc9619c1ae83",
            "value": " 24/24 [00:00&lt;00:00, 52.41it/s]"
          }
        },
        "61bc6c77aab543189cfb8f46483dacd2": {
          "model_module": "@jupyter-widgets/base",
          "model_name": "LayoutModel",
          "model_module_version": "1.2.0",
          "state": {
            "_model_module": "@jupyter-widgets/base",
            "_model_module_version": "1.2.0",
            "_model_name": "LayoutModel",
            "_view_count": null,
            "_view_module": "@jupyter-widgets/base",
            "_view_module_version": "1.2.0",
            "_view_name": "LayoutView",
            "align_content": null,
            "align_items": null,
            "align_self": null,
            "border": null,
            "bottom": null,
            "display": null,
            "flex": null,
            "flex_flow": null,
            "grid_area": null,
            "grid_auto_columns": null,
            "grid_auto_flow": null,
            "grid_auto_rows": null,
            "grid_column": null,
            "grid_gap": null,
            "grid_row": null,
            "grid_template_areas": null,
            "grid_template_columns": null,
            "grid_template_rows": null,
            "height": null,
            "justify_content": null,
            "justify_items": null,
            "left": null,
            "margin": null,
            "max_height": null,
            "max_width": null,
            "min_height": null,
            "min_width": null,
            "object_fit": null,
            "object_position": null,
            "order": null,
            "overflow": null,
            "overflow_x": null,
            "overflow_y": null,
            "padding": null,
            "right": null,
            "top": null,
            "visibility": null,
            "width": null
          }
        },
        "8aefed3ed7c74d61ac35e4e989c8da95": {
          "model_module": "@jupyter-widgets/base",
          "model_name": "LayoutModel",
          "model_module_version": "1.2.0",
          "state": {
            "_model_module": "@jupyter-widgets/base",
            "_model_module_version": "1.2.0",
            "_model_name": "LayoutModel",
            "_view_count": null,
            "_view_module": "@jupyter-widgets/base",
            "_view_module_version": "1.2.0",
            "_view_name": "LayoutView",
            "align_content": null,
            "align_items": null,
            "align_self": null,
            "border": null,
            "bottom": null,
            "display": null,
            "flex": null,
            "flex_flow": null,
            "grid_area": null,
            "grid_auto_columns": null,
            "grid_auto_flow": null,
            "grid_auto_rows": null,
            "grid_column": null,
            "grid_gap": null,
            "grid_row": null,
            "grid_template_areas": null,
            "grid_template_columns": null,
            "grid_template_rows": null,
            "height": null,
            "justify_content": null,
            "justify_items": null,
            "left": null,
            "margin": null,
            "max_height": null,
            "max_width": null,
            "min_height": null,
            "min_width": null,
            "object_fit": null,
            "object_position": null,
            "order": null,
            "overflow": null,
            "overflow_x": null,
            "overflow_y": null,
            "padding": null,
            "right": null,
            "top": null,
            "visibility": null,
            "width": null
          }
        },
        "10697f73569747eea251c87857d4d2c3": {
          "model_module": "@jupyter-widgets/controls",
          "model_name": "DescriptionStyleModel",
          "model_module_version": "1.5.0",
          "state": {
            "_model_module": "@jupyter-widgets/controls",
            "_model_module_version": "1.5.0",
            "_model_name": "DescriptionStyleModel",
            "_view_count": null,
            "_view_module": "@jupyter-widgets/base",
            "_view_module_version": "1.2.0",
            "_view_name": "StyleView",
            "description_width": ""
          }
        },
        "47fb37cccc4e46c595266d18c0876ecd": {
          "model_module": "@jupyter-widgets/base",
          "model_name": "LayoutModel",
          "model_module_version": "1.2.0",
          "state": {
            "_model_module": "@jupyter-widgets/base",
            "_model_module_version": "1.2.0",
            "_model_name": "LayoutModel",
            "_view_count": null,
            "_view_module": "@jupyter-widgets/base",
            "_view_module_version": "1.2.0",
            "_view_name": "LayoutView",
            "align_content": null,
            "align_items": null,
            "align_self": null,
            "border": null,
            "bottom": null,
            "display": null,
            "flex": null,
            "flex_flow": null,
            "grid_area": null,
            "grid_auto_columns": null,
            "grid_auto_flow": null,
            "grid_auto_rows": null,
            "grid_column": null,
            "grid_gap": null,
            "grid_row": null,
            "grid_template_areas": null,
            "grid_template_columns": null,
            "grid_template_rows": null,
            "height": null,
            "justify_content": null,
            "justify_items": null,
            "left": null,
            "margin": null,
            "max_height": null,
            "max_width": null,
            "min_height": null,
            "min_width": null,
            "object_fit": null,
            "object_position": null,
            "order": null,
            "overflow": null,
            "overflow_x": null,
            "overflow_y": null,
            "padding": null,
            "right": null,
            "top": null,
            "visibility": null,
            "width": null
          }
        },
        "31256f61290a4d49a4dfefda9d1d288e": {
          "model_module": "@jupyter-widgets/controls",
          "model_name": "ProgressStyleModel",
          "model_module_version": "1.5.0",
          "state": {
            "_model_module": "@jupyter-widgets/controls",
            "_model_module_version": "1.5.0",
            "_model_name": "ProgressStyleModel",
            "_view_count": null,
            "_view_module": "@jupyter-widgets/base",
            "_view_module_version": "1.2.0",
            "_view_name": "StyleView",
            "bar_color": null,
            "description_width": ""
          }
        },
        "f8b0f5d796804e5d9b4585bd7cff3dd7": {
          "model_module": "@jupyter-widgets/base",
          "model_name": "LayoutModel",
          "model_module_version": "1.2.0",
          "state": {
            "_model_module": "@jupyter-widgets/base",
            "_model_module_version": "1.2.0",
            "_model_name": "LayoutModel",
            "_view_count": null,
            "_view_module": "@jupyter-widgets/base",
            "_view_module_version": "1.2.0",
            "_view_name": "LayoutView",
            "align_content": null,
            "align_items": null,
            "align_self": null,
            "border": null,
            "bottom": null,
            "display": null,
            "flex": null,
            "flex_flow": null,
            "grid_area": null,
            "grid_auto_columns": null,
            "grid_auto_flow": null,
            "grid_auto_rows": null,
            "grid_column": null,
            "grid_gap": null,
            "grid_row": null,
            "grid_template_areas": null,
            "grid_template_columns": null,
            "grid_template_rows": null,
            "height": null,
            "justify_content": null,
            "justify_items": null,
            "left": null,
            "margin": null,
            "max_height": null,
            "max_width": null,
            "min_height": null,
            "min_width": null,
            "object_fit": null,
            "object_position": null,
            "order": null,
            "overflow": null,
            "overflow_x": null,
            "overflow_y": null,
            "padding": null,
            "right": null,
            "top": null,
            "visibility": null,
            "width": null
          }
        },
        "18ae46cf947446808994dc9619c1ae83": {
          "model_module": "@jupyter-widgets/controls",
          "model_name": "DescriptionStyleModel",
          "model_module_version": "1.5.0",
          "state": {
            "_model_module": "@jupyter-widgets/controls",
            "_model_module_version": "1.5.0",
            "_model_name": "DescriptionStyleModel",
            "_view_count": null,
            "_view_module": "@jupyter-widgets/base",
            "_view_module_version": "1.2.0",
            "_view_name": "StyleView",
            "description_width": ""
          }
        },
        "4c32c80f0b17411abe735b038b701be7": {
          "model_module": "@jupyter-widgets/controls",
          "model_name": "HBoxModel",
          "model_module_version": "1.5.0",
          "state": {
            "_dom_classes": [],
            "_model_module": "@jupyter-widgets/controls",
            "_model_module_version": "1.5.0",
            "_model_name": "HBoxModel",
            "_view_count": null,
            "_view_module": "@jupyter-widgets/controls",
            "_view_module_version": "1.5.0",
            "_view_name": "HBoxView",
            "box_style": "",
            "children": [
              "IPY_MODEL_950ec7abdd9d4619b4d5f4fab9ac2164",
              "IPY_MODEL_ebe6421ceac24b9e9ac8f521da2b8344",
              "IPY_MODEL_49fe66b57b42423a83ab54f8c1b19f45"
            ],
            "layout": "IPY_MODEL_04fcccca120d4ac48158eb556dae7057"
          }
        },
        "950ec7abdd9d4619b4d5f4fab9ac2164": {
          "model_module": "@jupyter-widgets/controls",
          "model_name": "HTMLModel",
          "model_module_version": "1.5.0",
          "state": {
            "_dom_classes": [],
            "_model_module": "@jupyter-widgets/controls",
            "_model_module_version": "1.5.0",
            "_model_name": "HTMLModel",
            "_view_count": null,
            "_view_module": "@jupyter-widgets/controls",
            "_view_module_version": "1.5.0",
            "_view_name": "HTMLView",
            "description": "",
            "description_tooltip": null,
            "layout": "IPY_MODEL_ee05584bdd69428991fd9bbc351717fd",
            "placeholder": "​",
            "style": "IPY_MODEL_d2b7accc914b4eb2abeef831d055559d",
            "value": "100%"
          }
        },
        "ebe6421ceac24b9e9ac8f521da2b8344": {
          "model_module": "@jupyter-widgets/controls",
          "model_name": "FloatProgressModel",
          "model_module_version": "1.5.0",
          "state": {
            "_dom_classes": [],
            "_model_module": "@jupyter-widgets/controls",
            "_model_module_version": "1.5.0",
            "_model_name": "FloatProgressModel",
            "_view_count": null,
            "_view_module": "@jupyter-widgets/controls",
            "_view_module_version": "1.5.0",
            "_view_name": "ProgressView",
            "bar_style": "success",
            "description": "",
            "description_tooltip": null,
            "layout": "IPY_MODEL_a159d67d1b3144109918ff96bb258ac8",
            "max": 24,
            "min": 0,
            "orientation": "horizontal",
            "style": "IPY_MODEL_96ad745f627f4e31b8efbcfd93c26d87",
            "value": 24
          }
        },
        "49fe66b57b42423a83ab54f8c1b19f45": {
          "model_module": "@jupyter-widgets/controls",
          "model_name": "HTMLModel",
          "model_module_version": "1.5.0",
          "state": {
            "_dom_classes": [],
            "_model_module": "@jupyter-widgets/controls",
            "_model_module_version": "1.5.0",
            "_model_name": "HTMLModel",
            "_view_count": null,
            "_view_module": "@jupyter-widgets/controls",
            "_view_module_version": "1.5.0",
            "_view_name": "HTMLView",
            "description": "",
            "description_tooltip": null,
            "layout": "IPY_MODEL_890a912c0d7c4c239a43e58e7aec7a73",
            "placeholder": "​",
            "style": "IPY_MODEL_4f71584344b54f59aed76bc1a7b659ed",
            "value": " 24/24 [00:00&lt;00:00, 30.31it/s]"
          }
        },
        "04fcccca120d4ac48158eb556dae7057": {
          "model_module": "@jupyter-widgets/base",
          "model_name": "LayoutModel",
          "model_module_version": "1.2.0",
          "state": {
            "_model_module": "@jupyter-widgets/base",
            "_model_module_version": "1.2.0",
            "_model_name": "LayoutModel",
            "_view_count": null,
            "_view_module": "@jupyter-widgets/base",
            "_view_module_version": "1.2.0",
            "_view_name": "LayoutView",
            "align_content": null,
            "align_items": null,
            "align_self": null,
            "border": null,
            "bottom": null,
            "display": null,
            "flex": null,
            "flex_flow": null,
            "grid_area": null,
            "grid_auto_columns": null,
            "grid_auto_flow": null,
            "grid_auto_rows": null,
            "grid_column": null,
            "grid_gap": null,
            "grid_row": null,
            "grid_template_areas": null,
            "grid_template_columns": null,
            "grid_template_rows": null,
            "height": null,
            "justify_content": null,
            "justify_items": null,
            "left": null,
            "margin": null,
            "max_height": null,
            "max_width": null,
            "min_height": null,
            "min_width": null,
            "object_fit": null,
            "object_position": null,
            "order": null,
            "overflow": null,
            "overflow_x": null,
            "overflow_y": null,
            "padding": null,
            "right": null,
            "top": null,
            "visibility": null,
            "width": null
          }
        },
        "ee05584bdd69428991fd9bbc351717fd": {
          "model_module": "@jupyter-widgets/base",
          "model_name": "LayoutModel",
          "model_module_version": "1.2.0",
          "state": {
            "_model_module": "@jupyter-widgets/base",
            "_model_module_version": "1.2.0",
            "_model_name": "LayoutModel",
            "_view_count": null,
            "_view_module": "@jupyter-widgets/base",
            "_view_module_version": "1.2.0",
            "_view_name": "LayoutView",
            "align_content": null,
            "align_items": null,
            "align_self": null,
            "border": null,
            "bottom": null,
            "display": null,
            "flex": null,
            "flex_flow": null,
            "grid_area": null,
            "grid_auto_columns": null,
            "grid_auto_flow": null,
            "grid_auto_rows": null,
            "grid_column": null,
            "grid_gap": null,
            "grid_row": null,
            "grid_template_areas": null,
            "grid_template_columns": null,
            "grid_template_rows": null,
            "height": null,
            "justify_content": null,
            "justify_items": null,
            "left": null,
            "margin": null,
            "max_height": null,
            "max_width": null,
            "min_height": null,
            "min_width": null,
            "object_fit": null,
            "object_position": null,
            "order": null,
            "overflow": null,
            "overflow_x": null,
            "overflow_y": null,
            "padding": null,
            "right": null,
            "top": null,
            "visibility": null,
            "width": null
          }
        },
        "d2b7accc914b4eb2abeef831d055559d": {
          "model_module": "@jupyter-widgets/controls",
          "model_name": "DescriptionStyleModel",
          "model_module_version": "1.5.0",
          "state": {
            "_model_module": "@jupyter-widgets/controls",
            "_model_module_version": "1.5.0",
            "_model_name": "DescriptionStyleModel",
            "_view_count": null,
            "_view_module": "@jupyter-widgets/base",
            "_view_module_version": "1.2.0",
            "_view_name": "StyleView",
            "description_width": ""
          }
        },
        "a159d67d1b3144109918ff96bb258ac8": {
          "model_module": "@jupyter-widgets/base",
          "model_name": "LayoutModel",
          "model_module_version": "1.2.0",
          "state": {
            "_model_module": "@jupyter-widgets/base",
            "_model_module_version": "1.2.0",
            "_model_name": "LayoutModel",
            "_view_count": null,
            "_view_module": "@jupyter-widgets/base",
            "_view_module_version": "1.2.0",
            "_view_name": "LayoutView",
            "align_content": null,
            "align_items": null,
            "align_self": null,
            "border": null,
            "bottom": null,
            "display": null,
            "flex": null,
            "flex_flow": null,
            "grid_area": null,
            "grid_auto_columns": null,
            "grid_auto_flow": null,
            "grid_auto_rows": null,
            "grid_column": null,
            "grid_gap": null,
            "grid_row": null,
            "grid_template_areas": null,
            "grid_template_columns": null,
            "grid_template_rows": null,
            "height": null,
            "justify_content": null,
            "justify_items": null,
            "left": null,
            "margin": null,
            "max_height": null,
            "max_width": null,
            "min_height": null,
            "min_width": null,
            "object_fit": null,
            "object_position": null,
            "order": null,
            "overflow": null,
            "overflow_x": null,
            "overflow_y": null,
            "padding": null,
            "right": null,
            "top": null,
            "visibility": null,
            "width": null
          }
        },
        "96ad745f627f4e31b8efbcfd93c26d87": {
          "model_module": "@jupyter-widgets/controls",
          "model_name": "ProgressStyleModel",
          "model_module_version": "1.5.0",
          "state": {
            "_model_module": "@jupyter-widgets/controls",
            "_model_module_version": "1.5.0",
            "_model_name": "ProgressStyleModel",
            "_view_count": null,
            "_view_module": "@jupyter-widgets/base",
            "_view_module_version": "1.2.0",
            "_view_name": "StyleView",
            "bar_color": null,
            "description_width": ""
          }
        },
        "890a912c0d7c4c239a43e58e7aec7a73": {
          "model_module": "@jupyter-widgets/base",
          "model_name": "LayoutModel",
          "model_module_version": "1.2.0",
          "state": {
            "_model_module": "@jupyter-widgets/base",
            "_model_module_version": "1.2.0",
            "_model_name": "LayoutModel",
            "_view_count": null,
            "_view_module": "@jupyter-widgets/base",
            "_view_module_version": "1.2.0",
            "_view_name": "LayoutView",
            "align_content": null,
            "align_items": null,
            "align_self": null,
            "border": null,
            "bottom": null,
            "display": null,
            "flex": null,
            "flex_flow": null,
            "grid_area": null,
            "grid_auto_columns": null,
            "grid_auto_flow": null,
            "grid_auto_rows": null,
            "grid_column": null,
            "grid_gap": null,
            "grid_row": null,
            "grid_template_areas": null,
            "grid_template_columns": null,
            "grid_template_rows": null,
            "height": null,
            "justify_content": null,
            "justify_items": null,
            "left": null,
            "margin": null,
            "max_height": null,
            "max_width": null,
            "min_height": null,
            "min_width": null,
            "object_fit": null,
            "object_position": null,
            "order": null,
            "overflow": null,
            "overflow_x": null,
            "overflow_y": null,
            "padding": null,
            "right": null,
            "top": null,
            "visibility": null,
            "width": null
          }
        },
        "4f71584344b54f59aed76bc1a7b659ed": {
          "model_module": "@jupyter-widgets/controls",
          "model_name": "DescriptionStyleModel",
          "model_module_version": "1.5.0",
          "state": {
            "_model_module": "@jupyter-widgets/controls",
            "_model_module_version": "1.5.0",
            "_model_name": "DescriptionStyleModel",
            "_view_count": null,
            "_view_module": "@jupyter-widgets/base",
            "_view_module_version": "1.2.0",
            "_view_name": "StyleView",
            "description_width": ""
          }
        },
        "8ad6af1b97d241169841444e747663e5": {
          "model_module": "@jupyter-widgets/controls",
          "model_name": "HBoxModel",
          "model_module_version": "1.5.0",
          "state": {
            "_dom_classes": [],
            "_model_module": "@jupyter-widgets/controls",
            "_model_module_version": "1.5.0",
            "_model_name": "HBoxModel",
            "_view_count": null,
            "_view_module": "@jupyter-widgets/controls",
            "_view_module_version": "1.5.0",
            "_view_name": "HBoxView",
            "box_style": "",
            "children": [
              "IPY_MODEL_fdd65e8e857a4bd1ad69d08b6ae5850a",
              "IPY_MODEL_55a2569ebdf84210ae4ddcd56ab0864f",
              "IPY_MODEL_75da462b6b7e44528cd92a9778eac77a"
            ],
            "layout": "IPY_MODEL_55207f0b8f1344f7a6370bf33680aaea"
          }
        },
        "fdd65e8e857a4bd1ad69d08b6ae5850a": {
          "model_module": "@jupyter-widgets/controls",
          "model_name": "HTMLModel",
          "model_module_version": "1.5.0",
          "state": {
            "_dom_classes": [],
            "_model_module": "@jupyter-widgets/controls",
            "_model_module_version": "1.5.0",
            "_model_name": "HTMLModel",
            "_view_count": null,
            "_view_module": "@jupyter-widgets/controls",
            "_view_module_version": "1.5.0",
            "_view_name": "HTMLView",
            "description": "",
            "description_tooltip": null,
            "layout": "IPY_MODEL_b0b0bbf6b245478b991df2ee7e549698",
            "placeholder": "​",
            "style": "IPY_MODEL_cef7035aab0943478c5845d2c17d2877",
            "value": "100%"
          }
        },
        "55a2569ebdf84210ae4ddcd56ab0864f": {
          "model_module": "@jupyter-widgets/controls",
          "model_name": "FloatProgressModel",
          "model_module_version": "1.5.0",
          "state": {
            "_dom_classes": [],
            "_model_module": "@jupyter-widgets/controls",
            "_model_module_version": "1.5.0",
            "_model_name": "FloatProgressModel",
            "_view_count": null,
            "_view_module": "@jupyter-widgets/controls",
            "_view_module_version": "1.5.0",
            "_view_name": "ProgressView",
            "bar_style": "success",
            "description": "",
            "description_tooltip": null,
            "layout": "IPY_MODEL_baac51f1ce694cc89230b345fde90318",
            "max": 24,
            "min": 0,
            "orientation": "horizontal",
            "style": "IPY_MODEL_9e25e758d991410bbc6eba99ac52f727",
            "value": 24
          }
        },
        "75da462b6b7e44528cd92a9778eac77a": {
          "model_module": "@jupyter-widgets/controls",
          "model_name": "HTMLModel",
          "model_module_version": "1.5.0",
          "state": {
            "_dom_classes": [],
            "_model_module": "@jupyter-widgets/controls",
            "_model_module_version": "1.5.0",
            "_model_name": "HTMLModel",
            "_view_count": null,
            "_view_module": "@jupyter-widgets/controls",
            "_view_module_version": "1.5.0",
            "_view_name": "HTMLView",
            "description": "",
            "description_tooltip": null,
            "layout": "IPY_MODEL_a32a720156fc4e3fb550926c3968ecc1",
            "placeholder": "​",
            "style": "IPY_MODEL_5be3ef1ba99049b0af198970810c9db6",
            "value": " 24/24 [00:02&lt;00:00,  8.73it/s]"
          }
        },
        "55207f0b8f1344f7a6370bf33680aaea": {
          "model_module": "@jupyter-widgets/base",
          "model_name": "LayoutModel",
          "model_module_version": "1.2.0",
          "state": {
            "_model_module": "@jupyter-widgets/base",
            "_model_module_version": "1.2.0",
            "_model_name": "LayoutModel",
            "_view_count": null,
            "_view_module": "@jupyter-widgets/base",
            "_view_module_version": "1.2.0",
            "_view_name": "LayoutView",
            "align_content": null,
            "align_items": null,
            "align_self": null,
            "border": null,
            "bottom": null,
            "display": null,
            "flex": null,
            "flex_flow": null,
            "grid_area": null,
            "grid_auto_columns": null,
            "grid_auto_flow": null,
            "grid_auto_rows": null,
            "grid_column": null,
            "grid_gap": null,
            "grid_row": null,
            "grid_template_areas": null,
            "grid_template_columns": null,
            "grid_template_rows": null,
            "height": null,
            "justify_content": null,
            "justify_items": null,
            "left": null,
            "margin": null,
            "max_height": null,
            "max_width": null,
            "min_height": null,
            "min_width": null,
            "object_fit": null,
            "object_position": null,
            "order": null,
            "overflow": null,
            "overflow_x": null,
            "overflow_y": null,
            "padding": null,
            "right": null,
            "top": null,
            "visibility": null,
            "width": null
          }
        },
        "b0b0bbf6b245478b991df2ee7e549698": {
          "model_module": "@jupyter-widgets/base",
          "model_name": "LayoutModel",
          "model_module_version": "1.2.0",
          "state": {
            "_model_module": "@jupyter-widgets/base",
            "_model_module_version": "1.2.0",
            "_model_name": "LayoutModel",
            "_view_count": null,
            "_view_module": "@jupyter-widgets/base",
            "_view_module_version": "1.2.0",
            "_view_name": "LayoutView",
            "align_content": null,
            "align_items": null,
            "align_self": null,
            "border": null,
            "bottom": null,
            "display": null,
            "flex": null,
            "flex_flow": null,
            "grid_area": null,
            "grid_auto_columns": null,
            "grid_auto_flow": null,
            "grid_auto_rows": null,
            "grid_column": null,
            "grid_gap": null,
            "grid_row": null,
            "grid_template_areas": null,
            "grid_template_columns": null,
            "grid_template_rows": null,
            "height": null,
            "justify_content": null,
            "justify_items": null,
            "left": null,
            "margin": null,
            "max_height": null,
            "max_width": null,
            "min_height": null,
            "min_width": null,
            "object_fit": null,
            "object_position": null,
            "order": null,
            "overflow": null,
            "overflow_x": null,
            "overflow_y": null,
            "padding": null,
            "right": null,
            "top": null,
            "visibility": null,
            "width": null
          }
        },
        "cef7035aab0943478c5845d2c17d2877": {
          "model_module": "@jupyter-widgets/controls",
          "model_name": "DescriptionStyleModel",
          "model_module_version": "1.5.0",
          "state": {
            "_model_module": "@jupyter-widgets/controls",
            "_model_module_version": "1.5.0",
            "_model_name": "DescriptionStyleModel",
            "_view_count": null,
            "_view_module": "@jupyter-widgets/base",
            "_view_module_version": "1.2.0",
            "_view_name": "StyleView",
            "description_width": ""
          }
        },
        "baac51f1ce694cc89230b345fde90318": {
          "model_module": "@jupyter-widgets/base",
          "model_name": "LayoutModel",
          "model_module_version": "1.2.0",
          "state": {
            "_model_module": "@jupyter-widgets/base",
            "_model_module_version": "1.2.0",
            "_model_name": "LayoutModel",
            "_view_count": null,
            "_view_module": "@jupyter-widgets/base",
            "_view_module_version": "1.2.0",
            "_view_name": "LayoutView",
            "align_content": null,
            "align_items": null,
            "align_self": null,
            "border": null,
            "bottom": null,
            "display": null,
            "flex": null,
            "flex_flow": null,
            "grid_area": null,
            "grid_auto_columns": null,
            "grid_auto_flow": null,
            "grid_auto_rows": null,
            "grid_column": null,
            "grid_gap": null,
            "grid_row": null,
            "grid_template_areas": null,
            "grid_template_columns": null,
            "grid_template_rows": null,
            "height": null,
            "justify_content": null,
            "justify_items": null,
            "left": null,
            "margin": null,
            "max_height": null,
            "max_width": null,
            "min_height": null,
            "min_width": null,
            "object_fit": null,
            "object_position": null,
            "order": null,
            "overflow": null,
            "overflow_x": null,
            "overflow_y": null,
            "padding": null,
            "right": null,
            "top": null,
            "visibility": null,
            "width": null
          }
        },
        "9e25e758d991410bbc6eba99ac52f727": {
          "model_module": "@jupyter-widgets/controls",
          "model_name": "ProgressStyleModel",
          "model_module_version": "1.5.0",
          "state": {
            "_model_module": "@jupyter-widgets/controls",
            "_model_module_version": "1.5.0",
            "_model_name": "ProgressStyleModel",
            "_view_count": null,
            "_view_module": "@jupyter-widgets/base",
            "_view_module_version": "1.2.0",
            "_view_name": "StyleView",
            "bar_color": null,
            "description_width": ""
          }
        },
        "a32a720156fc4e3fb550926c3968ecc1": {
          "model_module": "@jupyter-widgets/base",
          "model_name": "LayoutModel",
          "model_module_version": "1.2.0",
          "state": {
            "_model_module": "@jupyter-widgets/base",
            "_model_module_version": "1.2.0",
            "_model_name": "LayoutModel",
            "_view_count": null,
            "_view_module": "@jupyter-widgets/base",
            "_view_module_version": "1.2.0",
            "_view_name": "LayoutView",
            "align_content": null,
            "align_items": null,
            "align_self": null,
            "border": null,
            "bottom": null,
            "display": null,
            "flex": null,
            "flex_flow": null,
            "grid_area": null,
            "grid_auto_columns": null,
            "grid_auto_flow": null,
            "grid_auto_rows": null,
            "grid_column": null,
            "grid_gap": null,
            "grid_row": null,
            "grid_template_areas": null,
            "grid_template_columns": null,
            "grid_template_rows": null,
            "height": null,
            "justify_content": null,
            "justify_items": null,
            "left": null,
            "margin": null,
            "max_height": null,
            "max_width": null,
            "min_height": null,
            "min_width": null,
            "object_fit": null,
            "object_position": null,
            "order": null,
            "overflow": null,
            "overflow_x": null,
            "overflow_y": null,
            "padding": null,
            "right": null,
            "top": null,
            "visibility": null,
            "width": null
          }
        },
        "5be3ef1ba99049b0af198970810c9db6": {
          "model_module": "@jupyter-widgets/controls",
          "model_name": "DescriptionStyleModel",
          "model_module_version": "1.5.0",
          "state": {
            "_model_module": "@jupyter-widgets/controls",
            "_model_module_version": "1.5.0",
            "_model_name": "DescriptionStyleModel",
            "_view_count": null,
            "_view_module": "@jupyter-widgets/base",
            "_view_module_version": "1.2.0",
            "_view_name": "StyleView",
            "description_width": ""
          }
        },
        "f3d4f5f51c2e4b69ac6ab2c88ce99589": {
          "model_module": "@jupyter-widgets/controls",
          "model_name": "HBoxModel",
          "model_module_version": "1.5.0",
          "state": {
            "_dom_classes": [],
            "_model_module": "@jupyter-widgets/controls",
            "_model_module_version": "1.5.0",
            "_model_name": "HBoxModel",
            "_view_count": null,
            "_view_module": "@jupyter-widgets/controls",
            "_view_module_version": "1.5.0",
            "_view_name": "HBoxView",
            "box_style": "",
            "children": [
              "IPY_MODEL_b52034e7e6e649b9a375f58eadb67bc3",
              "IPY_MODEL_a7a0590fcf48461a9cd1e64e488008b1",
              "IPY_MODEL_4b92b37dd8a2416db71b8f3dc058bc0d"
            ],
            "layout": "IPY_MODEL_09392708a4aa4ef091a7e869ef8380ed"
          }
        },
        "b52034e7e6e649b9a375f58eadb67bc3": {
          "model_module": "@jupyter-widgets/controls",
          "model_name": "HTMLModel",
          "model_module_version": "1.5.0",
          "state": {
            "_dom_classes": [],
            "_model_module": "@jupyter-widgets/controls",
            "_model_module_version": "1.5.0",
            "_model_name": "HTMLModel",
            "_view_count": null,
            "_view_module": "@jupyter-widgets/controls",
            "_view_module_version": "1.5.0",
            "_view_name": "HTMLView",
            "description": "",
            "description_tooltip": null,
            "layout": "IPY_MODEL_26c3fb582b5e4858b4a66f7856293c10",
            "placeholder": "​",
            "style": "IPY_MODEL_6dfe90a807144b55a30e503b9168a49c",
            "value": "100%"
          }
        },
        "a7a0590fcf48461a9cd1e64e488008b1": {
          "model_module": "@jupyter-widgets/controls",
          "model_name": "FloatProgressModel",
          "model_module_version": "1.5.0",
          "state": {
            "_dom_classes": [],
            "_model_module": "@jupyter-widgets/controls",
            "_model_module_version": "1.5.0",
            "_model_name": "FloatProgressModel",
            "_view_count": null,
            "_view_module": "@jupyter-widgets/controls",
            "_view_module_version": "1.5.0",
            "_view_name": "ProgressView",
            "bar_style": "success",
            "description": "",
            "description_tooltip": null,
            "layout": "IPY_MODEL_fd04fc1ebb454792a830e358bf7bd024",
            "max": 97,
            "min": 0,
            "orientation": "horizontal",
            "style": "IPY_MODEL_750082a887de48f4b4333145e7e57cbf",
            "value": 97
          }
        },
        "4b92b37dd8a2416db71b8f3dc058bc0d": {
          "model_module": "@jupyter-widgets/controls",
          "model_name": "HTMLModel",
          "model_module_version": "1.5.0",
          "state": {
            "_dom_classes": [],
            "_model_module": "@jupyter-widgets/controls",
            "_model_module_version": "1.5.0",
            "_model_name": "HTMLModel",
            "_view_count": null,
            "_view_module": "@jupyter-widgets/controls",
            "_view_module_version": "1.5.0",
            "_view_name": "HTMLView",
            "description": "",
            "description_tooltip": null,
            "layout": "IPY_MODEL_a06d91c6b00c42bd8060edbfe440dc5f",
            "placeholder": "​",
            "style": "IPY_MODEL_5138caa9d7144eaa94b27a2915d9e268",
            "value": " 97/97 [00:11&lt;00:00,  8.10it/s]"
          }
        },
        "09392708a4aa4ef091a7e869ef8380ed": {
          "model_module": "@jupyter-widgets/base",
          "model_name": "LayoutModel",
          "model_module_version": "1.2.0",
          "state": {
            "_model_module": "@jupyter-widgets/base",
            "_model_module_version": "1.2.0",
            "_model_name": "LayoutModel",
            "_view_count": null,
            "_view_module": "@jupyter-widgets/base",
            "_view_module_version": "1.2.0",
            "_view_name": "LayoutView",
            "align_content": null,
            "align_items": null,
            "align_self": null,
            "border": null,
            "bottom": null,
            "display": null,
            "flex": null,
            "flex_flow": null,
            "grid_area": null,
            "grid_auto_columns": null,
            "grid_auto_flow": null,
            "grid_auto_rows": null,
            "grid_column": null,
            "grid_gap": null,
            "grid_row": null,
            "grid_template_areas": null,
            "grid_template_columns": null,
            "grid_template_rows": null,
            "height": null,
            "justify_content": null,
            "justify_items": null,
            "left": null,
            "margin": null,
            "max_height": null,
            "max_width": null,
            "min_height": null,
            "min_width": null,
            "object_fit": null,
            "object_position": null,
            "order": null,
            "overflow": null,
            "overflow_x": null,
            "overflow_y": null,
            "padding": null,
            "right": null,
            "top": null,
            "visibility": null,
            "width": null
          }
        },
        "26c3fb582b5e4858b4a66f7856293c10": {
          "model_module": "@jupyter-widgets/base",
          "model_name": "LayoutModel",
          "model_module_version": "1.2.0",
          "state": {
            "_model_module": "@jupyter-widgets/base",
            "_model_module_version": "1.2.0",
            "_model_name": "LayoutModel",
            "_view_count": null,
            "_view_module": "@jupyter-widgets/base",
            "_view_module_version": "1.2.0",
            "_view_name": "LayoutView",
            "align_content": null,
            "align_items": null,
            "align_self": null,
            "border": null,
            "bottom": null,
            "display": null,
            "flex": null,
            "flex_flow": null,
            "grid_area": null,
            "grid_auto_columns": null,
            "grid_auto_flow": null,
            "grid_auto_rows": null,
            "grid_column": null,
            "grid_gap": null,
            "grid_row": null,
            "grid_template_areas": null,
            "grid_template_columns": null,
            "grid_template_rows": null,
            "height": null,
            "justify_content": null,
            "justify_items": null,
            "left": null,
            "margin": null,
            "max_height": null,
            "max_width": null,
            "min_height": null,
            "min_width": null,
            "object_fit": null,
            "object_position": null,
            "order": null,
            "overflow": null,
            "overflow_x": null,
            "overflow_y": null,
            "padding": null,
            "right": null,
            "top": null,
            "visibility": null,
            "width": null
          }
        },
        "6dfe90a807144b55a30e503b9168a49c": {
          "model_module": "@jupyter-widgets/controls",
          "model_name": "DescriptionStyleModel",
          "model_module_version": "1.5.0",
          "state": {
            "_model_module": "@jupyter-widgets/controls",
            "_model_module_version": "1.5.0",
            "_model_name": "DescriptionStyleModel",
            "_view_count": null,
            "_view_module": "@jupyter-widgets/base",
            "_view_module_version": "1.2.0",
            "_view_name": "StyleView",
            "description_width": ""
          }
        },
        "fd04fc1ebb454792a830e358bf7bd024": {
          "model_module": "@jupyter-widgets/base",
          "model_name": "LayoutModel",
          "model_module_version": "1.2.0",
          "state": {
            "_model_module": "@jupyter-widgets/base",
            "_model_module_version": "1.2.0",
            "_model_name": "LayoutModel",
            "_view_count": null,
            "_view_module": "@jupyter-widgets/base",
            "_view_module_version": "1.2.0",
            "_view_name": "LayoutView",
            "align_content": null,
            "align_items": null,
            "align_self": null,
            "border": null,
            "bottom": null,
            "display": null,
            "flex": null,
            "flex_flow": null,
            "grid_area": null,
            "grid_auto_columns": null,
            "grid_auto_flow": null,
            "grid_auto_rows": null,
            "grid_column": null,
            "grid_gap": null,
            "grid_row": null,
            "grid_template_areas": null,
            "grid_template_columns": null,
            "grid_template_rows": null,
            "height": null,
            "justify_content": null,
            "justify_items": null,
            "left": null,
            "margin": null,
            "max_height": null,
            "max_width": null,
            "min_height": null,
            "min_width": null,
            "object_fit": null,
            "object_position": null,
            "order": null,
            "overflow": null,
            "overflow_x": null,
            "overflow_y": null,
            "padding": null,
            "right": null,
            "top": null,
            "visibility": null,
            "width": null
          }
        },
        "750082a887de48f4b4333145e7e57cbf": {
          "model_module": "@jupyter-widgets/controls",
          "model_name": "ProgressStyleModel",
          "model_module_version": "1.5.0",
          "state": {
            "_model_module": "@jupyter-widgets/controls",
            "_model_module_version": "1.5.0",
            "_model_name": "ProgressStyleModel",
            "_view_count": null,
            "_view_module": "@jupyter-widgets/base",
            "_view_module_version": "1.2.0",
            "_view_name": "StyleView",
            "bar_color": null,
            "description_width": ""
          }
        },
        "a06d91c6b00c42bd8060edbfe440dc5f": {
          "model_module": "@jupyter-widgets/base",
          "model_name": "LayoutModel",
          "model_module_version": "1.2.0",
          "state": {
            "_model_module": "@jupyter-widgets/base",
            "_model_module_version": "1.2.0",
            "_model_name": "LayoutModel",
            "_view_count": null,
            "_view_module": "@jupyter-widgets/base",
            "_view_module_version": "1.2.0",
            "_view_name": "LayoutView",
            "align_content": null,
            "align_items": null,
            "align_self": null,
            "border": null,
            "bottom": null,
            "display": null,
            "flex": null,
            "flex_flow": null,
            "grid_area": null,
            "grid_auto_columns": null,
            "grid_auto_flow": null,
            "grid_auto_rows": null,
            "grid_column": null,
            "grid_gap": null,
            "grid_row": null,
            "grid_template_areas": null,
            "grid_template_columns": null,
            "grid_template_rows": null,
            "height": null,
            "justify_content": null,
            "justify_items": null,
            "left": null,
            "margin": null,
            "max_height": null,
            "max_width": null,
            "min_height": null,
            "min_width": null,
            "object_fit": null,
            "object_position": null,
            "order": null,
            "overflow": null,
            "overflow_x": null,
            "overflow_y": null,
            "padding": null,
            "right": null,
            "top": null,
            "visibility": null,
            "width": null
          }
        },
        "5138caa9d7144eaa94b27a2915d9e268": {
          "model_module": "@jupyter-widgets/controls",
          "model_name": "DescriptionStyleModel",
          "model_module_version": "1.5.0",
          "state": {
            "_model_module": "@jupyter-widgets/controls",
            "_model_module_version": "1.5.0",
            "_model_name": "DescriptionStyleModel",
            "_view_count": null,
            "_view_module": "@jupyter-widgets/base",
            "_view_module_version": "1.2.0",
            "_view_name": "StyleView",
            "description_width": ""
          }
        },
        "8d239c26466c4e2196bd2b06412b0d34": {
          "model_module": "@jupyter-widgets/controls",
          "model_name": "HBoxModel",
          "model_module_version": "1.5.0",
          "state": {
            "_dom_classes": [],
            "_model_module": "@jupyter-widgets/controls",
            "_model_module_version": "1.5.0",
            "_model_name": "HBoxModel",
            "_view_count": null,
            "_view_module": "@jupyter-widgets/controls",
            "_view_module_version": "1.5.0",
            "_view_name": "HBoxView",
            "box_style": "",
            "children": [
              "IPY_MODEL_e8bc72ede24947c29a697ae0dffc985b",
              "IPY_MODEL_daf870ef4eef4b64b352b65536c63940",
              "IPY_MODEL_2be3e98dd27a4b398ce71d976d010742"
            ],
            "layout": "IPY_MODEL_b7d1c095ac814f69b94464d82c1393a1"
          }
        },
        "e8bc72ede24947c29a697ae0dffc985b": {
          "model_module": "@jupyter-widgets/controls",
          "model_name": "HTMLModel",
          "model_module_version": "1.5.0",
          "state": {
            "_dom_classes": [],
            "_model_module": "@jupyter-widgets/controls",
            "_model_module_version": "1.5.0",
            "_model_name": "HTMLModel",
            "_view_count": null,
            "_view_module": "@jupyter-widgets/controls",
            "_view_module_version": "1.5.0",
            "_view_name": "HTMLView",
            "description": "",
            "description_tooltip": null,
            "layout": "IPY_MODEL_bf2a7fdd21d3426ab4bbd514df2816f3",
            "placeholder": "​",
            "style": "IPY_MODEL_967ec2efcb924edfa2dcb9c876a8809d",
            "value": "100%"
          }
        },
        "daf870ef4eef4b64b352b65536c63940": {
          "model_module": "@jupyter-widgets/controls",
          "model_name": "FloatProgressModel",
          "model_module_version": "1.5.0",
          "state": {
            "_dom_classes": [],
            "_model_module": "@jupyter-widgets/controls",
            "_model_module_version": "1.5.0",
            "_model_name": "FloatProgressModel",
            "_view_count": null,
            "_view_module": "@jupyter-widgets/controls",
            "_view_module_version": "1.5.0",
            "_view_name": "ProgressView",
            "bar_style": "success",
            "description": "",
            "description_tooltip": null,
            "layout": "IPY_MODEL_1c0cb85308b945908d4de7d5d3c8bf3c",
            "max": 121,
            "min": 0,
            "orientation": "horizontal",
            "style": "IPY_MODEL_13cb1e0041b04e1f886db1740f763447",
            "value": 121
          }
        },
        "2be3e98dd27a4b398ce71d976d010742": {
          "model_module": "@jupyter-widgets/controls",
          "model_name": "HTMLModel",
          "model_module_version": "1.5.0",
          "state": {
            "_dom_classes": [],
            "_model_module": "@jupyter-widgets/controls",
            "_model_module_version": "1.5.0",
            "_model_name": "HTMLModel",
            "_view_count": null,
            "_view_module": "@jupyter-widgets/controls",
            "_view_module_version": "1.5.0",
            "_view_name": "HTMLView",
            "description": "",
            "description_tooltip": null,
            "layout": "IPY_MODEL_4040ad3a945f40e696c21062519febac",
            "placeholder": "​",
            "style": "IPY_MODEL_88260319d7844c6d90a3803e8884afe8",
            "value": " 121/121 [00:14&lt;00:00,  9.21it/s]"
          }
        },
        "b7d1c095ac814f69b94464d82c1393a1": {
          "model_module": "@jupyter-widgets/base",
          "model_name": "LayoutModel",
          "model_module_version": "1.2.0",
          "state": {
            "_model_module": "@jupyter-widgets/base",
            "_model_module_version": "1.2.0",
            "_model_name": "LayoutModel",
            "_view_count": null,
            "_view_module": "@jupyter-widgets/base",
            "_view_module_version": "1.2.0",
            "_view_name": "LayoutView",
            "align_content": null,
            "align_items": null,
            "align_self": null,
            "border": null,
            "bottom": null,
            "display": null,
            "flex": null,
            "flex_flow": null,
            "grid_area": null,
            "grid_auto_columns": null,
            "grid_auto_flow": null,
            "grid_auto_rows": null,
            "grid_column": null,
            "grid_gap": null,
            "grid_row": null,
            "grid_template_areas": null,
            "grid_template_columns": null,
            "grid_template_rows": null,
            "height": null,
            "justify_content": null,
            "justify_items": null,
            "left": null,
            "margin": null,
            "max_height": null,
            "max_width": null,
            "min_height": null,
            "min_width": null,
            "object_fit": null,
            "object_position": null,
            "order": null,
            "overflow": null,
            "overflow_x": null,
            "overflow_y": null,
            "padding": null,
            "right": null,
            "top": null,
            "visibility": null,
            "width": null
          }
        },
        "bf2a7fdd21d3426ab4bbd514df2816f3": {
          "model_module": "@jupyter-widgets/base",
          "model_name": "LayoutModel",
          "model_module_version": "1.2.0",
          "state": {
            "_model_module": "@jupyter-widgets/base",
            "_model_module_version": "1.2.0",
            "_model_name": "LayoutModel",
            "_view_count": null,
            "_view_module": "@jupyter-widgets/base",
            "_view_module_version": "1.2.0",
            "_view_name": "LayoutView",
            "align_content": null,
            "align_items": null,
            "align_self": null,
            "border": null,
            "bottom": null,
            "display": null,
            "flex": null,
            "flex_flow": null,
            "grid_area": null,
            "grid_auto_columns": null,
            "grid_auto_flow": null,
            "grid_auto_rows": null,
            "grid_column": null,
            "grid_gap": null,
            "grid_row": null,
            "grid_template_areas": null,
            "grid_template_columns": null,
            "grid_template_rows": null,
            "height": null,
            "justify_content": null,
            "justify_items": null,
            "left": null,
            "margin": null,
            "max_height": null,
            "max_width": null,
            "min_height": null,
            "min_width": null,
            "object_fit": null,
            "object_position": null,
            "order": null,
            "overflow": null,
            "overflow_x": null,
            "overflow_y": null,
            "padding": null,
            "right": null,
            "top": null,
            "visibility": null,
            "width": null
          }
        },
        "967ec2efcb924edfa2dcb9c876a8809d": {
          "model_module": "@jupyter-widgets/controls",
          "model_name": "DescriptionStyleModel",
          "model_module_version": "1.5.0",
          "state": {
            "_model_module": "@jupyter-widgets/controls",
            "_model_module_version": "1.5.0",
            "_model_name": "DescriptionStyleModel",
            "_view_count": null,
            "_view_module": "@jupyter-widgets/base",
            "_view_module_version": "1.2.0",
            "_view_name": "StyleView",
            "description_width": ""
          }
        },
        "1c0cb85308b945908d4de7d5d3c8bf3c": {
          "model_module": "@jupyter-widgets/base",
          "model_name": "LayoutModel",
          "model_module_version": "1.2.0",
          "state": {
            "_model_module": "@jupyter-widgets/base",
            "_model_module_version": "1.2.0",
            "_model_name": "LayoutModel",
            "_view_count": null,
            "_view_module": "@jupyter-widgets/base",
            "_view_module_version": "1.2.0",
            "_view_name": "LayoutView",
            "align_content": null,
            "align_items": null,
            "align_self": null,
            "border": null,
            "bottom": null,
            "display": null,
            "flex": null,
            "flex_flow": null,
            "grid_area": null,
            "grid_auto_columns": null,
            "grid_auto_flow": null,
            "grid_auto_rows": null,
            "grid_column": null,
            "grid_gap": null,
            "grid_row": null,
            "grid_template_areas": null,
            "grid_template_columns": null,
            "grid_template_rows": null,
            "height": null,
            "justify_content": null,
            "justify_items": null,
            "left": null,
            "margin": null,
            "max_height": null,
            "max_width": null,
            "min_height": null,
            "min_width": null,
            "object_fit": null,
            "object_position": null,
            "order": null,
            "overflow": null,
            "overflow_x": null,
            "overflow_y": null,
            "padding": null,
            "right": null,
            "top": null,
            "visibility": null,
            "width": null
          }
        },
        "13cb1e0041b04e1f886db1740f763447": {
          "model_module": "@jupyter-widgets/controls",
          "model_name": "ProgressStyleModel",
          "model_module_version": "1.5.0",
          "state": {
            "_model_module": "@jupyter-widgets/controls",
            "_model_module_version": "1.5.0",
            "_model_name": "ProgressStyleModel",
            "_view_count": null,
            "_view_module": "@jupyter-widgets/base",
            "_view_module_version": "1.2.0",
            "_view_name": "StyleView",
            "bar_color": null,
            "description_width": ""
          }
        },
        "4040ad3a945f40e696c21062519febac": {
          "model_module": "@jupyter-widgets/base",
          "model_name": "LayoutModel",
          "model_module_version": "1.2.0",
          "state": {
            "_model_module": "@jupyter-widgets/base",
            "_model_module_version": "1.2.0",
            "_model_name": "LayoutModel",
            "_view_count": null,
            "_view_module": "@jupyter-widgets/base",
            "_view_module_version": "1.2.0",
            "_view_name": "LayoutView",
            "align_content": null,
            "align_items": null,
            "align_self": null,
            "border": null,
            "bottom": null,
            "display": null,
            "flex": null,
            "flex_flow": null,
            "grid_area": null,
            "grid_auto_columns": null,
            "grid_auto_flow": null,
            "grid_auto_rows": null,
            "grid_column": null,
            "grid_gap": null,
            "grid_row": null,
            "grid_template_areas": null,
            "grid_template_columns": null,
            "grid_template_rows": null,
            "height": null,
            "justify_content": null,
            "justify_items": null,
            "left": null,
            "margin": null,
            "max_height": null,
            "max_width": null,
            "min_height": null,
            "min_width": null,
            "object_fit": null,
            "object_position": null,
            "order": null,
            "overflow": null,
            "overflow_x": null,
            "overflow_y": null,
            "padding": null,
            "right": null,
            "top": null,
            "visibility": null,
            "width": null
          }
        },
        "88260319d7844c6d90a3803e8884afe8": {
          "model_module": "@jupyter-widgets/controls",
          "model_name": "DescriptionStyleModel",
          "model_module_version": "1.5.0",
          "state": {
            "_model_module": "@jupyter-widgets/controls",
            "_model_module_version": "1.5.0",
            "_model_name": "DescriptionStyleModel",
            "_view_count": null,
            "_view_module": "@jupyter-widgets/base",
            "_view_module_version": "1.2.0",
            "_view_name": "StyleView",
            "description_width": ""
          }
        }
      }
    }
  },
  "cells": [
    {
      "cell_type": "markdown",
      "source": [
        "# Attention Deficit Disorder Detection"
      ],
      "metadata": {
        "id": "j2p5VbVKNG9E"
      }
    },
    {
      "cell_type": "markdown",
      "source": [
        "## Unzip data"
      ],
      "metadata": {
        "id": "hkET8SkWM6Bh"
      }
    },
    {
      "cell_type": "code",
      "execution_count": 2,
      "metadata": {
        "id": "R_NJTzhptzIu"
      },
      "outputs": [],
      "source": [
        "! unzip -q \"/content/drive/MyDrive/Colab Notebooks/Medical/ADHD_CONTROL/datasets/ADHD_DATA.zip\""
      ]
    },
    {
      "cell_type": "markdown",
      "source": [
        "## Download Helper Function"
      ],
      "metadata": {
        "id": "F7sWLbWtwWCm"
      }
    },
    {
      "cell_type": "code",
      "source": [
        "%%capture\n",
        "! wget https://raw.githubusercontent.com/HSAkash/Attention-Deficit-Disorder-Detection/main/helper_functions.py"
      ],
      "metadata": {
        "id": "GjUFYdx_wVsY"
      },
      "execution_count": 3,
      "outputs": []
    },
    {
      "cell_type": "markdown",
      "source": [
        "## Install packages"
      ],
      "metadata": {
        "id": "PvZ5tw2pM8li"
      }
    },
    {
      "cell_type": "code",
      "source": [
        "! pip install mne\n",
        "from IPython import display\n",
        "display.clear_output()\n",
        "import mne\n",
        "mne.__version__"
      ],
      "metadata": {
        "id": "ZM5_x4ZTuEoW",
        "colab": {
          "base_uri": "https://localhost:8080/",
          "height": 35
        },
        "outputId": "9c3e6c01-6346-493b-cdf4-8df15b688625"
      },
      "execution_count": 4,
      "outputs": [
        {
          "output_type": "execute_result",
          "data": {
            "text/plain": [
              "'1.4.2'"
            ],
            "application/vnd.google.colaboratory.intrinsic+json": {
              "type": "string"
            }
          },
          "metadata": {},
          "execution_count": 4
        }
      ]
    },
    {
      "cell_type": "markdown",
      "source": [
        "## Gdrive path"
      ],
      "metadata": {
        "id": "q0DurVcXM_49"
      }
    },
    {
      "cell_type": "code",
      "source": [
        "gdrive_Path = \"/content/drive/MyDrive/Colab Notebooks/Medical/ADHD_CONTROL\""
      ],
      "metadata": {
        "id": "jxkAGh47KMj7"
      },
      "execution_count": 5,
      "outputs": []
    },
    {
      "cell_type": "markdown",
      "source": [
        "## Import dependencies"
      ],
      "metadata": {
        "id": "fkb6MHnoNDAf"
      }
    },
    {
      "cell_type": "code",
      "source": [
        "from glob import glob\n",
        "import scipy.io\n",
        "import numpy as np\n",
        "import mne\n",
        "import matplotlib.pyplot as plt\n",
        "import tensorflow as tf\n",
        "import joblib\n",
        "from tqdm.auto import tqdm\n",
        "\n",
        "np.random.seed(42)"
      ],
      "metadata": {
        "id": "1h5tB2dVuGQ-"
      },
      "execution_count": 6,
      "outputs": []
    },
    {
      "cell_type": "markdown",
      "source": [
        "## Import helper function"
      ],
      "metadata": {
        "id": "9xv49iyBNNPN"
      }
    },
    {
      "cell_type": "code",
      "source": [
        "from helper_functions import (\n",
        "    plot_loss_curves,\n",
        "    create_tensorboard_callback,\n",
        "    History,\n",
        "    make_confusion_matrix\n",
        ")"
      ],
      "metadata": {
        "id": "37HqV-BiuHiu"
      },
      "execution_count": 7,
      "outputs": []
    },
    {
      "cell_type": "markdown",
      "source": [
        "## Get Prescision, Recall, F1 Score"
      ],
      "metadata": {
        "id": "lQFfaM-K9WkS"
      }
    },
    {
      "cell_type": "code",
      "source": [
        "from sklearn.metrics import f1_score, precision_score, recall_score, confusion_matrix, accuracy_score\n",
        "\n",
        "def getPrescisionRecallF1(y_true, y_pred, title):\n",
        "    # Example confusion matrix (replace with your own values)\n",
        "    confusion = confusion_matrix(y_true, y_pred)\n",
        "\n",
        "    # Calculate precision for each class\n",
        "    precision = np.diagonal(confusion) / np.sum(confusion, axis=0)\n",
        "\n",
        "    # Calculate recall for each class\n",
        "    recall = np.diagonal(confusion) / np.sum(confusion, axis=1)\n",
        "\n",
        "    # Calculate F1 score for each class\n",
        "    f1 = 2 * (precision * recall) / (precision + recall)\n",
        "\n",
        "    # Calculate accuracy\n",
        "    accuracy = np.zeros(2)\n",
        "    accuracy[0] = confusion[0][0]/sum(confusion[0])\n",
        "    accuracy[1] = confusion[1][1]/sum(confusion[1])\n",
        "\n",
        "    # Calculate overall metrics by averaging values across all classes\n",
        "    avg_precision = np.mean(precision)\n",
        "    avg_recall = np.mean(recall)\n",
        "    avg_f1 = np.mean(f1)\n",
        "    avg_acuracy = accuracy_score(y_true, y_pred)\n",
        "\n",
        "    header = f\"\"\"{'Metrics':^10}    {'Control':^10}    {'ADHD':^10}    {'Average':^10}\"\"\"\n",
        "    print(f\"_________________{title}______________________\\n\")\n",
        "    print(header)\n",
        "    print(f\"\"\"{'_'*len(header)}\"\"\")\n",
        "    print(f\"\"\"{'Precision':^10}    {precision[0]:^10.4f}    {precision[1]:^10.4f}    {avg_precision:^10.4f}\"\"\")\n",
        "    print(f\"\"\"{'Recall':^10}    {recall[0]:^10.4f}    {recall[1]:^10.4f}    {avg_recall:^10.4f}\"\"\")\n",
        "    print(f\"\"\"{'F1 Score':^10}    {f1[0]:^10.4f}    {f1[1]:^10.4f}    {avg_f1:^10.4f}\"\"\")\n",
        "    print(f\"\"\"{'Accuracy':^10}    {accuracy[0]:^10.4f}    {accuracy[1]:^10.4f}    {avg_acuracy:^10.4f}\"\"\")\n"
      ],
      "metadata": {
        "id": "4svwQskx9l1k"
      },
      "execution_count": 36,
      "outputs": []
    },
    {
      "cell_type": "markdown",
      "source": [
        "## Mat data mne"
      ],
      "metadata": {
        "id": "AO-tOM3QuK7K"
      }
    },
    {
      "cell_type": "code",
      "source": [
        "mne.set_log_level(\"WARNING\")\n",
        "def convertmat2mne_60(data):\n",
        "    ch_names = ['Fz', 'Cz', 'Pz', 'C3', 'T3', 'C4', 'T4', 'Fp1', 'Fp2', 'F3', 'F4', 'F7', 'F8', 'P3', 'P4', 'T5', 'T6', 'O1', 'O2']\n",
        "    ch_types = ['eeg'] * 19\n",
        "    sampling_freq=128\n",
        "    info = mne.create_info(ch_names, ch_types=ch_types, sfreq=sampling_freq, verbose=0)\n",
        "    info.set_montage('standard_1020', verbose=0)\n",
        "    data = np.moveaxis(data, 0, -1)\n",
        "    data=mne.io.RawArray(data, info, verbose=0)\n",
        "    data.set_eeg_reference(verbose=0)\n",
        "    # data.filter(l_freq=1,h_freq=35)\n",
        "    epochs=mne.make_fixed_length_epochs(data,duration=4,overlap=0, verbose=0)\n",
        "    # return np.moveaxis(epochs.get_data(), 1, -1)\n",
        "    return epochs.get_data()"
      ],
      "metadata": {
        "id": "8M3x8ZrOuMfE"
      },
      "execution_count": 9,
      "outputs": []
    },
    {
      "cell_type": "code",
      "source": [
        "def convertmat2mne_30(data):\n",
        "    ch_names = ['Fz', 'Cz', 'Pz', 'C3', 'T3', 'C4', 'T4', 'Fp1', 'Fp2', 'F3', 'F4', 'F7', 'F8', 'P3', 'P4', 'T5', 'T6', 'O1', 'O2']\n",
        "    ch_types = ['eeg'] * 19\n",
        "    sampling_freq=128\n",
        "    info = mne.create_info(ch_names, ch_types=ch_types, sfreq=sampling_freq, verbose=0)\n",
        "    info.set_montage('standard_1020', verbose=0)\n",
        "    data = np.moveaxis(data, 0, -1)\n",
        "    data=mne.io.RawArray(data, info, verbose=0)\n",
        "    data.set_eeg_reference(verbose=0)\n",
        "    data.filter(l_freq=1,h_freq=30)\n",
        "    epochs=mne.make_fixed_length_epochs(data,duration=4,overlap=0, verbose=0)\n",
        "    # return np.moveaxis(epochs.get_data(), 1, -1)\n",
        "    return epochs.get_data()"
      ],
      "metadata": {
        "id": "keQFKxr44EFF"
      },
      "execution_count": 10,
      "outputs": []
    },
    {
      "cell_type": "code",
      "source": [
        "def get_mne_dataset_60(list_path):\n",
        "    dataset = []\n",
        "    for x in tqdm(list_path):\n",
        "        data = scipy.io.loadmat(x)[x.split('/')[-1].split('.')[0]]\n",
        "        data = convertmat2mne_60(data)\n",
        "        dataset.append(data)\n",
        "    return dataset\n",
        "\n",
        "def get_mne_dataset_30(list_path):\n",
        "    dataset = []\n",
        "    for x in tqdm(list_path):\n",
        "        data = scipy.io.loadmat(x)[x.split('/')[-1].split('.')[0]]\n",
        "        data = convertmat2mne_30(data)\n",
        "        dataset.append(data)\n",
        "    return dataset"
      ],
      "metadata": {
        "id": "CK7c2VffuN0N"
      },
      "execution_count": 11,
      "outputs": []
    },
    {
      "cell_type": "markdown",
      "source": [
        "## Get label"
      ],
      "metadata": {
        "id": "i8ep9qm1NeI_"
      }
    },
    {
      "cell_type": "code",
      "source": [
        "# /kaggle/input/adhd-mat-dataset/dataset/ADHD/v10p.mat\n",
        "labels_dict = {\"ADHD\":1, \"Control\":0}\n",
        "def get_label(filePath):\n",
        "    return labels_dict[filePath.split(\"/\")[-2]]"
      ],
      "metadata": {
        "id": "_m4MF55-uVQS"
      },
      "execution_count": 12,
      "outputs": []
    },
    {
      "cell_type": "markdown",
      "source": [
        "## Data path"
      ],
      "metadata": {
        "id": "oZf-U9ljNic8"
      }
    },
    {
      "cell_type": "code",
      "source": [
        "data_dir = \"ADHD_DATA\""
      ],
      "metadata": {
        "id": "cibZ6TyTuRPG"
      },
      "execution_count": 13,
      "outputs": []
    },
    {
      "cell_type": "markdown",
      "source": [
        "## Get all file path"
      ],
      "metadata": {
        "id": "lCA550eQNk9M"
      }
    },
    {
      "cell_type": "code",
      "source": [
        "filePath_list = glob(f\"{data_dir}/*/*.mat\")\n",
        "len(filePath_list)"
      ],
      "metadata": {
        "colab": {
          "base_uri": "https://localhost:8080/"
        },
        "id": "4jcxbg7qulgN",
        "outputId": "2f9eb67c-45c4-4e7e-e75e-fedca07014f0"
      },
      "execution_count": 14,
      "outputs": [
        {
          "output_type": "execute_result",
          "data": {
            "text/plain": [
              "121"
            ]
          },
          "metadata": {},
          "execution_count": 14
        }
      ]
    },
    {
      "cell_type": "markdown",
      "source": [
        "## Shuffle filepath list"
      ],
      "metadata": {
        "id": "1ry6zw_HNn1v"
      }
    },
    {
      "cell_type": "code",
      "source": [
        "import sklearn\n",
        "filePath_list = sklearn.utils.shuffle(filePath_list, random_state=0)"
      ],
      "metadata": {
        "id": "xCBrZFq54doI"
      },
      "execution_count": null,
      "outputs": []
    },
    {
      "cell_type": "markdown",
      "source": [
        "## Get labels"
      ],
      "metadata": {
        "id": "hbEahFlUNrvq"
      }
    },
    {
      "cell_type": "code",
      "source": [
        "labels_list = [get_label(x) for x in filePath_list]\n",
        "len(labels_list)"
      ],
      "metadata": {
        "colab": {
          "base_uri": "https://localhost:8080/"
        },
        "id": "nb6voik0wf8P",
        "outputId": "e6fbce9f-0a52-4c36-80fb-1dcbaecca533"
      },
      "execution_count": 16,
      "outputs": [
        {
          "output_type": "execute_result",
          "data": {
            "text/plain": [
              "121"
            ]
          },
          "metadata": {},
          "execution_count": 16
        }
      ]
    },
    {
      "cell_type": "markdown",
      "source": [
        "## get data"
      ],
      "metadata": {
        "id": "eOHZxw57NutO"
      }
    },
    {
      "cell_type": "code",
      "source": [
        "data_list_60 = get_mne_dataset_60(filePath_list)\n",
        "data_list_30 = get_mne_dataset_30(filePath_list)\n",
        "len(data_list_60), len(data_list_30)"
      ],
      "metadata": {
        "colab": {
          "base_uri": "https://localhost:8080/",
          "height": 98,
          "referenced_widgets": [
            "05de863d35764b03aef73a36180c9083",
            "dd348840ed2f4c49b95a772009dd2a3e",
            "089d4d5ca1334db292a79ea14b336ae5",
            "32425b7fb6064b8ebb59944b7e296bb1",
            "a9958b6137b84ef9a119ffaec6152517",
            "eafd47121729466a9215eeee6806024e",
            "94180dc5679241e2a540234efa9edf81",
            "72b965d5f2724a18b792e74779b4c6c0",
            "06c8560fda7943fab6443149af89860e",
            "9c8ba64b6e91481cbca944910f7e796f",
            "9d8766234b3b4d9cb053f55e59e032f4",
            "07ad2390e755483c94a56369858612f6",
            "7d55e31546974c679997f58e2d8e7c60",
            "b15b3b6c75d1495fbc7a6b6fd329ca39",
            "8b06adcc049d4cfb8fdfad266da5bfe1",
            "9e00b84826df4e71b4ebc249055a3315",
            "07a80abad3194823adf1f3e573a07cfc",
            "a659267f53bd4217b15b0f09a6030fd2",
            "72e149ae34c7479d9ed3baa32ce1b607",
            "5f0686ef939740298b1769aee528f0cb",
            "2cb4aa43e8b140d29098e1ce99e0245d",
            "1e1468b7718c46a6b3f03415c31a8404"
          ]
        },
        "id": "FUBBkBg14wuV",
        "outputId": "082edff6-7831-465f-82c6-c92a9e7def41"
      },
      "execution_count": 52,
      "outputs": [
        {
          "output_type": "display_data",
          "data": {
            "text/plain": [
              "  0%|          | 0/121 [00:00<?, ?it/s]"
            ],
            "application/vnd.jupyter.widget-view+json": {
              "version_major": 2,
              "version_minor": 0,
              "model_id": "05de863d35764b03aef73a36180c9083"
            }
          },
          "metadata": {}
        },
        {
          "output_type": "display_data",
          "data": {
            "text/plain": [
              "  0%|          | 0/121 [00:00<?, ?it/s]"
            ],
            "application/vnd.jupyter.widget-view+json": {
              "version_major": 2,
              "version_minor": 0,
              "model_id": "07ad2390e755483c94a56369858612f6"
            }
          },
          "metadata": {}
        },
        {
          "output_type": "execute_result",
          "data": {
            "text/plain": [
              "(121, 121)"
            ]
          },
          "metadata": {},
          "execution_count": 52
        }
      ]
    },
    {
      "cell_type": "markdown",
      "source": [
        "## Get labels"
      ],
      "metadata": {
        "id": "n2cBDfMGN4pH"
      }
    },
    {
      "cell_type": "code",
      "source": [
        "label_list, groups_list = [], []\n",
        "for i, data in enumerate(data_list_60):\n",
        "    label_list.append([labels_list[i]]*len(data))\n",
        "    groups_list.append([i]*len(data))"
      ],
      "metadata": {
        "id": "s_KEnMkowl_6"
      },
      "execution_count": 18,
      "outputs": []
    },
    {
      "cell_type": "markdown",
      "source": [
        "## List to numpy"
      ],
      "metadata": {
        "id": "JHsGmZrDN78n"
      }
    },
    {
      "cell_type": "code",
      "source": [
        "data_array_60=np.concatenate(data_list_60)\n",
        "data_array_30=np.concatenate(data_list_30)\n",
        "label_array=np.concatenate(label_list)\n",
        "group_array=np.concatenate(groups_list)\n",
        "\n",
        "data_array_60=np.moveaxis(data_array_60,1,2)\n",
        "data_array_30=np.moveaxis(data_array_30,1,2)\n",
        "\n",
        "del(data_list_60)\n",
        "del(data_list_30)\n",
        "del(label_list)\n",
        "del(groups_list)\n",
        "\n",
        "data_array_60.shape, data_array_30.shape"
      ],
      "metadata": {
        "colab": {
          "base_uri": "https://localhost:8080/"
        },
        "id": "92c7LLZFupQp",
        "outputId": "2bc62078-9fa2-4b14-c0c2-3cf65a1f2f94"
      },
      "execution_count": 19,
      "outputs": [
        {
          "output_type": "execute_result",
          "data": {
            "text/plain": [
              "((4173, 512, 19), (4173, 512, 19))"
            ]
          },
          "metadata": {},
          "execution_count": 19
        }
      ]
    },
    {
      "cell_type": "markdown",
      "source": [
        "## Scaling"
      ],
      "metadata": {
        "id": "uK0TDLoEN-mH"
      }
    },
    {
      "cell_type": "code",
      "source": [
        "from sklearn.preprocessing import StandardScaler\n",
        "from sklearn.base import TransformerMixin,BaseEstimator\n",
        "class StandardScaler3D(BaseEstimator,TransformerMixin):\n",
        "    #batch, sequence, channels\n",
        "    def __init__(self):\n",
        "        self.scaler = StandardScaler()\n",
        "        # self.scaler = MinMaxScaler()\n",
        "\n",
        "    def fit(self,X,y=None):\n",
        "        self.scaler.fit(X.reshape(-1, X.shape[2]))\n",
        "        return self\n",
        "\n",
        "    def transform(self,X):\n",
        "        return self.scaler.transform(X.reshape( -1,X.shape[2])).reshape(X.shape)"
      ],
      "metadata": {
        "id": "p_z7oxUHuqNS"
      },
      "execution_count": 20,
      "outputs": []
    },
    {
      "cell_type": "markdown",
      "source": [
        "## Spliting data"
      ],
      "metadata": {
        "id": "Ws3pVer2OA35"
      }
    },
    {
      "cell_type": "code",
      "source": [
        "from sklearn.model_selection import GroupKFold,LeaveOneGroupOut\n",
        "gkf=GroupKFold()\n",
        "for train_index, val_index in gkf.split(data_array_60, label_array, groups=group_array):\n",
        "\n",
        "    train_features_60,train_labels=data_array_60[train_index],label_array[train_index]\n",
        "    val_features_60,val_labels=data_array_60[val_index],label_array[val_index]\n",
        "\n",
        "    scaler_60=StandardScaler3D()\n",
        "    train_features_60=scaler_60.fit_transform(train_features_60)\n",
        "    val_features_60=scaler_60.transform(val_features_60)\n",
        "\n",
        "\n",
        "    train_features_30=data_array_30[train_index]\n",
        "    val_features_30=data_array_30[val_index]\n",
        "\n",
        "    scaler_30=StandardScaler3D()\n",
        "    train_features_30=scaler_30.fit_transform(train_features_30)\n",
        "    val_features_30=scaler_30.transform(val_features_30)\n",
        "\n",
        "\n",
        "    break"
      ],
      "metadata": {
        "id": "L4FD0iJeu4hk"
      },
      "execution_count": 21,
      "outputs": []
    },
    {
      "cell_type": "markdown",
      "source": [
        "## Create model\n"
      ],
      "metadata": {
        "id": "V_cEDb3DOLZM"
      }
    },
    {
      "cell_type": "markdown",
      "source": [
        "### Import dependencies"
      ],
      "metadata": {
        "id": "Wf8V2flAOOiy"
      }
    },
    {
      "cell_type": "code",
      "source": [
        "from tensorflow.keras.layers import Input,Dense,Flatten,GRU,Conv1D, Concatenate, concatenate\n",
        "from tensorflow.keras.models import Model\n",
        "import tensorflow as tf\n",
        "tf.random.set_seed(42)"
      ],
      "metadata": {
        "id": "8Sl6VqHxu5_s"
      },
      "execution_count": null,
      "outputs": []
    },
    {
      "cell_type": "markdown",
      "source": [
        "### Create  check points"
      ],
      "metadata": {
        "id": "uRJegicCORHp"
      }
    },
    {
      "cell_type": "code",
      "source": [
        "checkpoint_path = f\"{gdrive_Path}/14_crononet/10/checkpoint/cp.ckpt\"\n",
        "checkpoint_callback = tf.keras.callbacks.ModelCheckpoint(\n",
        "    checkpoint_path,\n",
        "    save_weights_only=True,\n",
        "    monitor='val_accuracy',\n",
        "    save_best_only=True\n",
        ")\n",
        "tensorboard_dir = f\"{gdrive_Path}/14_crononet/10/tensorboard\"\n",
        "tensorboard_name = 'ADHD_model'\n",
        "checkpoint_path"
      ],
      "metadata": {
        "colab": {
          "base_uri": "https://localhost:8080/",
          "height": 35
        },
        "id": "5nEN873UvtmH",
        "outputId": "e2f58745-e11d-42a2-881e-1c88fee7ea57"
      },
      "execution_count": null,
      "outputs": [
        {
          "output_type": "execute_result",
          "data": {
            "text/plain": [
              "'checkpoint/cp.ckpt'"
            ],
            "application/vnd.google.colaboratory.intrinsic+json": {
              "type": "string"
            }
          },
          "metadata": {},
          "execution_count": 21
        }
      ]
    },
    {
      "cell_type": "markdown",
      "source": [
        "### Modeling"
      ],
      "metadata": {
        "id": "c_oem3QSOUhb"
      }
    },
    {
      "cell_type": "code",
      "source": [
        "def block(input):\n",
        "  conv1 = Conv1D(32, 2, strides=2,activation='relu',padding=\"same\")(input)\n",
        "  conv2 = Conv1D(32, 4, strides=2,activation='relu',padding=\"causal\")(input)\n",
        "  conv3 = Conv1D(32, 8, strides=2,activation='relu',padding=\"causal\")(input)\n",
        "  x = concatenate([conv1,conv2,conv3],axis=-1)\n",
        "  return x"
      ],
      "metadata": {
        "id": "9yAv5KQZ3Ff1"
      },
      "execution_count": null,
      "outputs": []
    },
    {
      "cell_type": "markdown",
      "source": [
        "#### Model part1"
      ],
      "metadata": {
        "id": "302AigohOXrB"
      }
    },
    {
      "cell_type": "code",
      "source": [
        "input_60= Input(shape=train_features_60.shape[1:])\n",
        "block1_60=block(input_60)\n",
        "block2_60=block(block1_60)\n",
        "block3_60=block(block2_60)\n",
        "gru_out1_60 = GRU(32,activation='tanh',return_sequences=True)(block3_60)\n",
        "gru_out2_60 = GRU(32,activation='tanh',return_sequences=True)(gru_out1_60)\n",
        "gru_out_60 = concatenate([gru_out1_60,gru_out2_60],axis=-1)\n",
        "gru_out3_60 = GRU(32,activation='tanh',return_sequences=True)(gru_out_60)\n",
        "gru_out_60 = concatenate([gru_out1_60,gru_out2_60,gru_out3_60])\n",
        "gru_out4_60 = GRU(32,activation='tanh')(gru_out_60)\n",
        "gru_out4_60.shape"
      ],
      "metadata": {
        "colab": {
          "base_uri": "https://localhost:8080/"
        },
        "id": "nTXbbWj23M5z",
        "outputId": "b4dc6e99-c6a3-4942-e037-9d1a9f35dca3"
      },
      "execution_count": null,
      "outputs": [
        {
          "output_type": "execute_result",
          "data": {
            "text/plain": [
              "TensorShape([None, 32])"
            ]
          },
          "metadata": {},
          "execution_count": 24
        }
      ]
    },
    {
      "cell_type": "markdown",
      "source": [
        "#### Model part2"
      ],
      "metadata": {
        "id": "3t29CKl2Obry"
      }
    },
    {
      "cell_type": "code",
      "source": [
        "input_30= Input(shape=train_features_30.shape[1:])\n",
        "block1_30=block(input_30)\n",
        "block2_30=block(block1_30)\n",
        "block3_30=block(block2_30)\n",
        "gru_out1_30 = GRU(32,activation='tanh',return_sequences=True)(block3_30)\n",
        "gru_out2_30 = GRU(32,activation='tanh',return_sequences=True)(gru_out1_30)\n",
        "gru_out_30 = concatenate([gru_out1_30,gru_out2_30],axis=-1)\n",
        "gru_out3_30 = GRU(32,activation='tanh',return_sequences=True)(gru_out_30)\n",
        "gru_out_30 = concatenate([gru_out1_30,gru_out2_30,gru_out3_30])\n",
        "gru_out4_30 = GRU(32,activation='tanh')(gru_out_30)\n",
        "gru_out4_30.shape"
      ],
      "metadata": {
        "colab": {
          "base_uri": "https://localhost:8080/"
        },
        "id": "rws3s2gb60G8",
        "outputId": "239b8e2c-28d5-44f1-e702-a7055a142dd1"
      },
      "execution_count": null,
      "outputs": [
        {
          "output_type": "execute_result",
          "data": {
            "text/plain": [
              "TensorShape([None, 32])"
            ]
          },
          "metadata": {},
          "execution_count": 25
        }
      ]
    },
    {
      "cell_type": "markdown",
      "source": [
        "#### Combine two model"
      ],
      "metadata": {
        "id": "2XvvwdQEOeUQ"
      }
    },
    {
      "cell_type": "code",
      "source": [
        "combine = concatenate([gru_out4_60,gru_out4_30])\n",
        "combine.shape"
      ],
      "metadata": {
        "colab": {
          "base_uri": "https://localhost:8080/"
        },
        "id": "Ugb-7FLb60EC",
        "outputId": "1f7ded54-1399-4434-c321-31503c9dff16"
      },
      "execution_count": null,
      "outputs": [
        {
          "output_type": "execute_result",
          "data": {
            "text/plain": [
              "TensorShape([None, 64])"
            ]
          },
          "metadata": {},
          "execution_count": 26
        }
      ]
    },
    {
      "cell_type": "code",
      "source": [
        "output = Dense(1,activation='sigmoid')(combine)\n",
        "model = Model(inputs=[input_60, input_30], outputs=output)"
      ],
      "metadata": {
        "id": "11x_yxK46z5Q"
      },
      "execution_count": null,
      "outputs": []
    },
    {
      "cell_type": "markdown",
      "source": [
        "#### Compile model"
      ],
      "metadata": {
        "id": "3nrS91gnOihe"
      }
    },
    {
      "cell_type": "code",
      "source": [
        "model.compile(optimizer = 'adam', loss = 'binary_crossentropy', metrics=['accuracy'])"
      ],
      "metadata": {
        "id": "P3Jl4ogTD1d-"
      },
      "execution_count": null,
      "outputs": []
    },
    {
      "cell_type": "markdown",
      "source": [
        "### Summary model"
      ],
      "metadata": {
        "id": "Beg08rgROkvj"
      }
    },
    {
      "cell_type": "code",
      "source": [
        "model.summary()"
      ],
      "metadata": {
        "colab": {
          "base_uri": "https://localhost:8080/"
        },
        "id": "W42AG-YVD1bB",
        "outputId": "6198c7dc-340b-42f1-cbff-329324f662b1"
      },
      "execution_count": null,
      "outputs": [
        {
          "output_type": "stream",
          "name": "stdout",
          "text": [
            "Model: \"model\"\n",
            "__________________________________________________________________________________________________\n",
            " Layer (type)                   Output Shape         Param #     Connected to                     \n",
            "==================================================================================================\n",
            " input_1 (InputLayer)           [(None, 512, 19)]    0           []                               \n",
            "                                                                                                  \n",
            " input_2 (InputLayer)           [(None, 512, 19)]    0           []                               \n",
            "                                                                                                  \n",
            " conv1d (Conv1D)                (None, 256, 32)      1248        ['input_1[0][0]']                \n",
            "                                                                                                  \n",
            " conv1d_1 (Conv1D)              (None, 256, 32)      2464        ['input_1[0][0]']                \n",
            "                                                                                                  \n",
            " conv1d_2 (Conv1D)              (None, 256, 32)      4896        ['input_1[0][0]']                \n",
            "                                                                                                  \n",
            " conv1d_9 (Conv1D)              (None, 256, 32)      1248        ['input_2[0][0]']                \n",
            "                                                                                                  \n",
            " conv1d_10 (Conv1D)             (None, 256, 32)      2464        ['input_2[0][0]']                \n",
            "                                                                                                  \n",
            " conv1d_11 (Conv1D)             (None, 256, 32)      4896        ['input_2[0][0]']                \n",
            "                                                                                                  \n",
            " concatenate (Concatenate)      (None, 256, 96)      0           ['conv1d[0][0]',                 \n",
            "                                                                  'conv1d_1[0][0]',               \n",
            "                                                                  'conv1d_2[0][0]']               \n",
            "                                                                                                  \n",
            " concatenate_5 (Concatenate)    (None, 256, 96)      0           ['conv1d_9[0][0]',               \n",
            "                                                                  'conv1d_10[0][0]',              \n",
            "                                                                  'conv1d_11[0][0]']              \n",
            "                                                                                                  \n",
            " conv1d_3 (Conv1D)              (None, 128, 32)      6176        ['concatenate[0][0]']            \n",
            "                                                                                                  \n",
            " conv1d_4 (Conv1D)              (None, 128, 32)      12320       ['concatenate[0][0]']            \n",
            "                                                                                                  \n",
            " conv1d_5 (Conv1D)              (None, 128, 32)      24608       ['concatenate[0][0]']            \n",
            "                                                                                                  \n",
            " conv1d_12 (Conv1D)             (None, 128, 32)      6176        ['concatenate_5[0][0]']          \n",
            "                                                                                                  \n",
            " conv1d_13 (Conv1D)             (None, 128, 32)      12320       ['concatenate_5[0][0]']          \n",
            "                                                                                                  \n",
            " conv1d_14 (Conv1D)             (None, 128, 32)      24608       ['concatenate_5[0][0]']          \n",
            "                                                                                                  \n",
            " concatenate_1 (Concatenate)    (None, 128, 96)      0           ['conv1d_3[0][0]',               \n",
            "                                                                  'conv1d_4[0][0]',               \n",
            "                                                                  'conv1d_5[0][0]']               \n",
            "                                                                                                  \n",
            " concatenate_6 (Concatenate)    (None, 128, 96)      0           ['conv1d_12[0][0]',              \n",
            "                                                                  'conv1d_13[0][0]',              \n",
            "                                                                  'conv1d_14[0][0]']              \n",
            "                                                                                                  \n",
            " conv1d_6 (Conv1D)              (None, 64, 32)       6176        ['concatenate_1[0][0]']          \n",
            "                                                                                                  \n",
            " conv1d_7 (Conv1D)              (None, 64, 32)       12320       ['concatenate_1[0][0]']          \n",
            "                                                                                                  \n",
            " conv1d_8 (Conv1D)              (None, 64, 32)       24608       ['concatenate_1[0][0]']          \n",
            "                                                                                                  \n",
            " conv1d_15 (Conv1D)             (None, 64, 32)       6176        ['concatenate_6[0][0]']          \n",
            "                                                                                                  \n",
            " conv1d_16 (Conv1D)             (None, 64, 32)       12320       ['concatenate_6[0][0]']          \n",
            "                                                                                                  \n",
            " conv1d_17 (Conv1D)             (None, 64, 32)       24608       ['concatenate_6[0][0]']          \n",
            "                                                                                                  \n",
            " concatenate_2 (Concatenate)    (None, 64, 96)       0           ['conv1d_6[0][0]',               \n",
            "                                                                  'conv1d_7[0][0]',               \n",
            "                                                                  'conv1d_8[0][0]']               \n",
            "                                                                                                  \n",
            " concatenate_7 (Concatenate)    (None, 64, 96)       0           ['conv1d_15[0][0]',              \n",
            "                                                                  'conv1d_16[0][0]',              \n",
            "                                                                  'conv1d_17[0][0]']              \n",
            "                                                                                                  \n",
            " gru (GRU)                      (None, 64, 32)       12480       ['concatenate_2[0][0]']          \n",
            "                                                                                                  \n",
            " gru_4 (GRU)                    (None, 64, 32)       12480       ['concatenate_7[0][0]']          \n",
            "                                                                                                  \n",
            " gru_1 (GRU)                    (None, 64, 32)       6336        ['gru[0][0]']                    \n",
            "                                                                                                  \n",
            " gru_5 (GRU)                    (None, 64, 32)       6336        ['gru_4[0][0]']                  \n",
            "                                                                                                  \n",
            " concatenate_3 (Concatenate)    (None, 64, 64)       0           ['gru[0][0]',                    \n",
            "                                                                  'gru_1[0][0]']                  \n",
            "                                                                                                  \n",
            " concatenate_8 (Concatenate)    (None, 64, 64)       0           ['gru_4[0][0]',                  \n",
            "                                                                  'gru_5[0][0]']                  \n",
            "                                                                                                  \n",
            " gru_2 (GRU)                    (None, 64, 32)       9408        ['concatenate_3[0][0]']          \n",
            "                                                                                                  \n",
            " gru_6 (GRU)                    (None, 64, 32)       9408        ['concatenate_8[0][0]']          \n",
            "                                                                                                  \n",
            " concatenate_4 (Concatenate)    (None, 64, 96)       0           ['gru[0][0]',                    \n",
            "                                                                  'gru_1[0][0]',                  \n",
            "                                                                  'gru_2[0][0]']                  \n",
            "                                                                                                  \n",
            " concatenate_9 (Concatenate)    (None, 64, 96)       0           ['gru_4[0][0]',                  \n",
            "                                                                  'gru_5[0][0]',                  \n",
            "                                                                  'gru_6[0][0]']                  \n",
            "                                                                                                  \n",
            " gru_3 (GRU)                    (None, 32)           12480       ['concatenate_4[0][0]']          \n",
            "                                                                                                  \n",
            " gru_7 (GRU)                    (None, 32)           12480       ['concatenate_9[0][0]']          \n",
            "                                                                                                  \n",
            " concatenate_10 (Concatenate)   (None, 64)           0           ['gru_3[0][0]',                  \n",
            "                                                                  'gru_7[0][0]']                  \n",
            "                                                                                                  \n",
            " dense (Dense)                  (None, 1)            65          ['concatenate_10[0][0]']         \n",
            "                                                                                                  \n",
            "==================================================================================================\n",
            "Total params: 271,105\n",
            "Trainable params: 271,105\n",
            "Non-trainable params: 0\n",
            "__________________________________________________________________________________________________\n"
          ]
        }
      ]
    },
    {
      "cell_type": "markdown",
      "source": [
        "### Ploting model"
      ],
      "metadata": {
        "id": "Xk6913QdOp0o"
      }
    },
    {
      "cell_type": "code",
      "source": [
        "tf.keras.utils.plot_model(model)"
      ],
      "metadata": {
        "colab": {
          "base_uri": "https://localhost:8080/",
          "height": 1000
        },
        "id": "1acCXLbDMPyo",
        "outputId": "0f5787ad-1da3-4515-b0a1-895d515f3892"
      },
      "execution_count": null,
      "outputs": [
        {
          "output_type": "execute_result",
          "data": {
            "image/png": "[encoded data removed]",
            "text/plain": [
              "<IPython.core.display.Image object>"
            ]
          },
          "metadata": {},
          "execution_count": 42
        }
      ]
    },
    {
      "cell_type": "markdown",
      "source": [
        "### Fit the model epoch 10"
      ],
      "metadata": {
        "id": "B6Cc6OIpOs22"
      }
    },
    {
      "cell_type": "code",
      "source": [
        "history = model.fit(\n",
        "    [train_features_60, train_features_30],\n",
        "    train_labels,\n",
        "    validation_data = ([val_features_60, val_features_30], val_labels),\n",
        "    epochs=10,\n",
        "    batch_size=128,\n",
        "    callbacks = [\n",
        "        create_tensorboard_callback(\n",
        "            dir_name = tensorboard_dir,\n",
        "            experiment_name = tensorboard_name\n",
        "        ),\n",
        "        checkpoint_callback\n",
        "    ]\n",
        ")\n",
        "histories = History(history)"
      ],
      "metadata": {
        "colab": {
          "base_uri": "https://localhost:8080/"
        },
        "id": "ESSo7U16vL_L",
        "outputId": "cb99f8f1-6448-4d48-c6d5-0001409e90c9"
      },
      "execution_count": null,
      "outputs": [
        {
          "output_type": "stream",
          "name": "stdout",
          "text": [
            "Saving TensorBoard log files to: tensorboard/ADHD_model/20230330-060348\n",
            "Epoch 1/10\n",
            "27/27 [==============================] - 64s 1s/step - loss: 0.6521 - accuracy: 0.6157 - val_loss: 0.5890 - val_accuracy: 0.7163\n",
            "Epoch 2/10\n",
            "27/27 [==============================] - 35s 1s/step - loss: 0.3803 - accuracy: 0.8399 - val_loss: 0.3388 - val_accuracy: 0.8522\n",
            "Epoch 3/10\n",
            "27/27 [==============================] - 33s 1s/step - loss: 0.1936 - accuracy: 0.9267 - val_loss: 0.1686 - val_accuracy: 0.9267\n",
            "Epoch 4/10\n",
            "27/27 [==============================] - 34s 1s/step - loss: 0.0970 - accuracy: 0.9665 - val_loss: 0.3338 - val_accuracy: 0.8678\n",
            "Epoch 5/10\n",
            "27/27 [==============================] - 34s 1s/step - loss: 0.0255 - accuracy: 0.9946 - val_loss: 0.3295 - val_accuracy: 0.8894\n",
            "Epoch 6/10\n",
            "27/27 [==============================] - 36s 1s/step - loss: 0.0121 - accuracy: 0.9973 - val_loss: 0.5338 - val_accuracy: 0.8606\n",
            "Epoch 7/10\n",
            "27/27 [==============================] - 36s 1s/step - loss: 0.0077 - accuracy: 0.9988 - val_loss: 0.2083 - val_accuracy: 0.9339\n",
            "Epoch 8/10\n",
            "27/27 [==============================] - 33s 1s/step - loss: 0.1901 - accuracy: 0.9494 - val_loss: 0.2736 - val_accuracy: 0.9075\n",
            "Epoch 9/10\n",
            "27/27 [==============================] - 34s 1s/step - loss: 0.1133 - accuracy: 0.9620 - val_loss: 0.2458 - val_accuracy: 0.9026\n",
            "Epoch 10/10\n",
            "27/27 [==============================] - 35s 1s/step - loss: 0.0156 - accuracy: 0.9979 - val_loss: 0.4764 - val_accuracy: 0.8702\n"
          ]
        }
      ]
    },
    {
      "cell_type": "markdown",
      "source": [
        "### Plot model loss curves"
      ],
      "metadata": {
        "id": "ZYewZ5NvOxAP"
      }
    },
    {
      "cell_type": "code",
      "source": [
        "plot_loss_curves(histories)"
      ],
      "metadata": {
        "colab": {
          "base_uri": "https://localhost:8080/",
          "height": 927
        },
        "id": "Y92QTilcvmgV",
        "outputId": "3f8b9319-30d0-4d39-9640-815690162d41"
      },
      "execution_count": null,
      "outputs": [
        {
          "output_type": "display_data",
          "data": {
            "text/plain": [
              "<Figure size 640x480 with 1 Axes>"
            ],
            "image/png": "[encoded data removed]"
          },
          "metadata": {}
        },
        {
          "output_type": "display_data",
          "data": {
            "text/plain": [
              "<Figure size 640x480 with 1 Axes>"
            ],
            "image/png": "[encoded data removed]"
          },
          "metadata": {}
        }
      ]
    },
    {
      "cell_type": "markdown",
      "source": [
        "### Evaluate"
      ],
      "metadata": {
        "id": "puJN70X4O3HE"
      }
    },
    {
      "cell_type": "markdown",
      "source": [
        "#### Evaluate model"
      ],
      "metadata": {
        "id": "SHdZyOiqO5pc"
      }
    },
    {
      "cell_type": "code",
      "source": [
        "model.evaluate([val_features_60, val_features_30], val_labels)"
      ],
      "metadata": {
        "colab": {
          "base_uri": "https://localhost:8080/"
        },
        "id": "fRVamv-PKmhj",
        "outputId": "931282b6-3e8c-4c46-8762-1e8eeb4b924e"
      },
      "execution_count": null,
      "outputs": [
        {
          "output_type": "stream",
          "name": "stdout",
          "text": [
            "26/26 [==============================] - 4s 146ms/step - loss: 0.4764 - accuracy: 0.8702\n"
          ]
        },
        {
          "output_type": "execute_result",
          "data": {
            "text/plain": [
              "[0.4763686954975128, 0.870192289352417]"
            ]
          },
          "metadata": {},
          "execution_count": 34
        }
      ]
    },
    {
      "cell_type": "markdown",
      "source": [
        "#### Copy Model and load best weight"
      ],
      "metadata": {
        "id": "2Sz-CrmOO8xd"
      }
    },
    {
      "cell_type": "code",
      "source": [
        "best_model = tf.keras.models.clone_model(model)\n",
        "best_model.load_weights(checkpoint_path)\n",
        "best_model.compile(optimizer = 'adam', loss = 'binary_crossentropy', metrics=['accuracy'])"
      ],
      "metadata": {
        "id": "xv6_iTfkKmdC"
      },
      "execution_count": null,
      "outputs": []
    },
    {
      "cell_type": "markdown",
      "source": [
        "#### Evalute best model"
      ],
      "metadata": {
        "id": "HkqMQL_1PFuA"
      }
    },
    {
      "cell_type": "code",
      "source": [
        "best_model.evaluate([train_features_60, train_features_30], train_labels), best_model.evaluate([val_features_60, val_features_30], val_labels)"
      ],
      "metadata": {
        "colab": {
          "base_uri": "https://localhost:8080/"
        },
        "id": "kV9JeYxeKmZs",
        "outputId": "fe5ca902-aa79-41f6-e1e6-99a5219b5d2a"
      },
      "execution_count": null,
      "outputs": [
        {
          "output_type": "stream",
          "name": "stdout",
          "text": [
            "105/105 [==============================] - 18s 100ms/step - loss: 0.0250 - accuracy: 0.9907\n",
            "26/26 [==============================] - 2s 85ms/step - loss: 0.2083 - accuracy: 0.9339\n"
          ]
        },
        {
          "output_type": "execute_result",
          "data": {
            "text/plain": [
              "([0.024994324892759323, 0.9907213449478149],\n",
              " [0.2082936018705368, 0.9338942170143127])"
            ]
          },
          "metadata": {},
          "execution_count": 38
        }
      ]
    },
    {
      "cell_type": "markdown",
      "source": [
        "### Confusion matrix"
      ],
      "metadata": {
        "id": "Y684TcupPluc"
      }
    },
    {
      "cell_type": "markdown",
      "source": [
        "#### Prediction"
      ],
      "metadata": {
        "id": "9Jf_54o3Qany"
      }
    },
    {
      "cell_type": "code",
      "source": [
        "best_model = tf.keras.models.load_model(f\"/content/drive/MyDrive/Colab Notebooks/Medical/ADHD_CONTROL/05_For_Paper/save_models/pretrain_model.h5\")"
      ],
      "metadata": {
        "id": "rNwkTF86_6Cx"
      },
      "execution_count": 22,
      "outputs": []
    },
    {
      "cell_type": "code",
      "source": [
        "best_model.evaluate([val_features_60, val_features_30], val_labels)"
      ],
      "metadata": {
        "colab": {
          "base_uri": "https://localhost:8080/"
        },
        "id": "qJPbnkyZBM17",
        "outputId": "4e894f9d-e2e8-4418-e801-1e075b7596cf"
      },
      "execution_count": 29,
      "outputs": [
        {
          "output_type": "stream",
          "name": "stdout",
          "text": [
            "26/26 [==============================] - 5s 48ms/step - loss: 0.2083 - accuracy: 0.9339\n"
          ]
        },
        {
          "output_type": "execute_result",
          "data": {
            "text/plain": [
              "[0.2082936018705368, 0.9338942170143127]"
            ]
          },
          "metadata": {},
          "execution_count": 29
        }
      ]
    },
    {
      "cell_type": "markdown",
      "source": [
        "#### Val data conf matrix"
      ],
      "metadata": {
        "id": "HoUigsOCTTrS"
      }
    },
    {
      "cell_type": "code",
      "source": [
        "val_y_pred = best_model.predict([val_features_60, val_features_30], verbose=0)"
      ],
      "metadata": {
        "id": "-f_nhHoyWJJb"
      },
      "execution_count": 23,
      "outputs": []
    },
    {
      "cell_type": "code",
      "source": [
        "val_y_pred = np.squeeze(np.where(val_y_pred >= 0.5, 1, 0), axis=-1)"
      ],
      "metadata": {
        "id": "0ZlKfW98Qakk"
      },
      "execution_count": 24,
      "outputs": []
    },
    {
      "cell_type": "code",
      "source": [
        "confusion = confusion_matrix(val_labels, val_y_pred)\n",
        "confusion"
      ],
      "metadata": {
        "colab": {
          "base_uri": "https://localhost:8080/"
        },
        "id": "C-RsAXeWBibs",
        "outputId": "a9e3fa33-2f72-4f06-83ef-fb5ca27fd5b3"
      },
      "execution_count": 30,
      "outputs": [
        {
          "output_type": "execute_result",
          "data": {
            "text/plain": [
              "array([[263,  19],\n",
              "       [ 36, 514]])"
            ]
          },
          "metadata": {},
          "execution_count": 30
        }
      ]
    },
    {
      "cell_type": "markdown",
      "source": [
        "#### Print Prescision, Recall, F1 Score & Accuracy"
      ],
      "metadata": {
        "id": "c66jMXQGEUTg"
      }
    },
    {
      "cell_type": "code",
      "source": [
        "getPrescisionRecallF1(val_labels, val_y_pred, \"4 sec Sample validation\")"
      ],
      "metadata": {
        "colab": {
          "base_uri": "https://localhost:8080/"
        },
        "id": "J3zlfFwb_XtB",
        "outputId": "6eae00fd-c1cc-4551-adf7-05f69fe487ee"
      },
      "execution_count": 37,
      "outputs": [
        {
          "output_type": "stream",
          "name": "stdout",
          "text": [
            "_________________4 sec Sample validation______________________\n",
            "\n",
            " Metrics       Control         ADHD        Average  \n",
            "____________________________________________________\n",
            "Precision       0.8796        0.9644        0.9220  \n",
            "  Recall        0.9326        0.9345        0.9336  \n",
            " F1 Score       0.9053        0.9492        0.9273  \n",
            " Accuracy       0.9326        0.9345        0.9339  \n"
          ]
        }
      ]
    },
    {
      "cell_type": "markdown",
      "source": [
        "#### Plot confusion matrix\n"
      ],
      "metadata": {
        "id": "ifcpyGOCEVRp"
      }
    },
    {
      "cell_type": "code",
      "source": [
        "make_confusion_matrix(val_labels, val_y_pred, [\"Healthy\", \"ADHD\"], title=\"Confusion Matrix Validation Data\")"
      ],
      "metadata": {
        "colab": {
          "base_uri": "https://localhost:8080/",
          "height": 815
        },
        "id": "0wRhZ5RvQaXy",
        "outputId": "dd6e56c9-b55b-436f-a395-6bc529be16cd"
      },
      "execution_count": null,
      "outputs": [
        {
          "output_type": "display_data",
          "data": {
            "text/plain": [
              "<Figure size 1000x1000 with 2 Axes>"
            ],
            "image/png": "[encoded data removed]"
          },
          "metadata": {}
        }
      ]
    },
    {
      "cell_type": "markdown",
      "source": [
        "#### train data conf matrix"
      ],
      "metadata": {
        "id": "Bmw5EFLqTZUF"
      }
    },
    {
      "cell_type": "code",
      "source": [
        "train_y_pred = best_model.predict([train_features_60, train_features_30], verbose=0)\n",
        "train_y_pred = np.squeeze(np.where(train_y_pred >= 0.5, 1, 0), axis=-1)"
      ],
      "metadata": {
        "id": "SxqBoKxHSeET"
      },
      "execution_count": 34,
      "outputs": []
    },
    {
      "cell_type": "markdown",
      "source": [
        "#### Print Prescision, Recall, F1 Score & Accuracy"
      ],
      "metadata": {
        "id": "0RkobqJdEP-v"
      }
    },
    {
      "cell_type": "code",
      "source": [
        "getPrescisionRecallF1(train_labels, train_y_pred, \"4 sec Sample training\")"
      ],
      "metadata": {
        "colab": {
          "base_uri": "https://localhost:8080/"
        },
        "id": "LH_1zeWhB_M1",
        "outputId": "55d40b7b-38ec-4510-a49b-ad6ff50390e1"
      },
      "execution_count": 38,
      "outputs": [
        {
          "output_type": "stream",
          "name": "stdout",
          "text": [
            "_________________4 sec Sample training______________________\n",
            "\n",
            " Metrics       Control         ADHD        Average  \n",
            "____________________________________________________\n",
            "Precision       1.0000        0.9829        0.9914  \n",
            "  Recall        0.9801        1.0000        0.9901  \n",
            " F1 Score       0.9900        0.9914        0.9907  \n",
            " Accuracy       0.9801        1.0000        0.9907  \n"
          ]
        }
      ]
    },
    {
      "cell_type": "markdown",
      "source": [
        "#### Plot confusion matrix"
      ],
      "metadata": {
        "id": "UzRwdHj4EQ6T"
      }
    },
    {
      "cell_type": "code",
      "source": [
        "make_confusion_matrix(train_labels, train_y_pred, [\"Healthy\", \"ADHD\"], title=\"Confusion Matrix Training Data\")"
      ],
      "metadata": {
        "colab": {
          "base_uri": "https://localhost:8080/",
          "height": 815
        },
        "id": "gltxDx7lSd2Q",
        "outputId": "3911c145-8af1-4335-ff8a-52695382e917"
      },
      "execution_count": null,
      "outputs": [
        {
          "output_type": "display_data",
          "data": {
            "text/plain": [
              "<Figure size 1000x1000 with 2 Axes>"
            ],
            "image/png": "[encoded data removed]"
          },
          "metadata": {}
        }
      ]
    },
    {
      "cell_type": "markdown",
      "source": [
        "#### Full data conf matrix"
      ],
      "metadata": {
        "id": "EZGBcU9WTdpB"
      }
    },
    {
      "cell_type": "code",
      "source": [
        "full_data_60 = np.concatenate([train_features_60, val_features_60], axis=0)\n",
        "full_data_30 = np.concatenate([train_features_30, val_features_30], axis=0)\n",
        "full_label = np.concatenate([train_labels, val_labels])"
      ],
      "metadata": {
        "id": "Z42wj64efM71"
      },
      "execution_count": 40,
      "outputs": []
    },
    {
      "cell_type": "code",
      "source": [
        "full_y_pred = best_model.predict([full_data_60, full_data_30], verbose=0)\n",
        "full_y_pred = np.squeeze(np.where(full_y_pred >= 0.5, 1, 0), axis=-1)"
      ],
      "metadata": {
        "id": "kY5v_AioY0Or"
      },
      "execution_count": 41,
      "outputs": []
    },
    {
      "cell_type": "markdown",
      "source": [
        "#### Print Prescision, Recall, F1 Score & Accuracy"
      ],
      "metadata": {
        "id": "gO0GIAyKEHSF"
      }
    },
    {
      "cell_type": "code",
      "source": [
        "getPrescisionRecallF1(full_label, full_y_pred, \"4 sec Sample total\")"
      ],
      "metadata": {
        "colab": {
          "base_uri": "https://localhost:8080/"
        },
        "id": "NtZJw-maDA0O",
        "outputId": "a564bc20-d417-4f8d-cd55-4575658af014"
      },
      "execution_count": 42,
      "outputs": [
        {
          "output_type": "stream",
          "name": "stdout",
          "text": [
            "_________________4 sec Sample total______________________\n",
            "\n",
            " Metrics       Control         ADHD        Average  \n",
            "____________________________________________________\n",
            "Precision       0.9803        0.9787        0.9795  \n",
            "  Recall        0.9729        0.9845        0.9787  \n",
            " F1 Score       0.9766        0.9816        0.9791  \n",
            " Accuracy       0.9729        0.9845        0.9794  \n"
          ]
        }
      ]
    },
    {
      "cell_type": "markdown",
      "source": [
        "#### Plot confusion matrix"
      ],
      "metadata": {
        "id": "zdtFM4LDEJSb"
      }
    },
    {
      "cell_type": "code",
      "source": [
        "make_confusion_matrix(full_label, full_y_pred, [\"Healthy\", \"ADHD\"], title=\"Confusion Matrix\")"
      ],
      "metadata": {
        "colab": {
          "base_uri": "https://localhost:8080/",
          "height": 815
        },
        "id": "UrT1SPDvTuPH",
        "outputId": "bc93a75e-4aee-4c51-8c95-7d2b742eb52d"
      },
      "execution_count": null,
      "outputs": [
        {
          "output_type": "display_data",
          "data": {
            "text/plain": [
              "<Figure size 1000x1000 with 2 Axes>"
            ],
            "image/png": "[encoded data removed]"
          },
          "metadata": {}
        }
      ]
    },
    {
      "cell_type": "markdown",
      "source": [
        "### Save best model"
      ],
      "metadata": {
        "id": "fUJ0OkCyPI8d"
      }
    },
    {
      "cell_type": "code",
      "source": [
        "best_model.save(f\"{gdrive_Path}/save_models/best_model.h5\")"
      ],
      "metadata": {
        "id": "vqdND1IvL0nq"
      },
      "execution_count": null,
      "outputs": []
    },
    {
      "cell_type": "markdown",
      "source": [
        "### Save Scaler model"
      ],
      "metadata": {
        "id": "h83ua2k6fDki"
      }
    },
    {
      "cell_type": "code",
      "source": [
        "joblib.dump(scaler_60, f'{gdrive_Path}/save_models/scaler_60.save')\n",
        "joblib.dump(scaler_30, f'{gdrive_Path}/save_models/scaler_30.save')"
      ],
      "metadata": {
        "id": "kJUGE4_BfDRT"
      },
      "execution_count": null,
      "outputs": []
    },
    {
      "cell_type": "markdown",
      "source": [
        "## Voiting\n"
      ],
      "metadata": {
        "id": "6KUMQ-qrPXXo"
      }
    },
    {
      "cell_type": "markdown",
      "source": [
        "### Load pretrain model and data\n",
        "* Load best_model.h5\n",
        "* Load Scaler model\n"
      ],
      "metadata": {
        "id": "EKSWhqffekKL"
      }
    },
    {
      "cell_type": "code",
      "source": [
        "load_model = tf.keras.models.load_model(f\"{gdrive_Path}/save_models/pretrain_model.h5\")"
      ],
      "metadata": {
        "id": "dbSkO5gYfy5K"
      },
      "execution_count": null,
      "outputs": []
    },
    {
      "cell_type": "code",
      "source": [
        "scaler_60 = joblib.load(f'{gdrive_Path}/save_models/scaler_60.save')\n",
        "scaler_30 = joblib.load(f'{gdrive_Path}/save_models/scaler_30.save')"
      ],
      "metadata": {
        "id": "wddsYhFygNRL"
      },
      "execution_count": null,
      "outputs": []
    },
    {
      "cell_type": "markdown",
      "source": [
        "### Taking 20% for validation\n",
        "* Total person 121\n",
        "* Training purpose person 97\n",
        "* Validation purpose person 24"
      ],
      "metadata": {
        "id": "Y3JnJKNqige2"
      }
    },
    {
      "cell_type": "code",
      "source": [
        "train_files = filePath_list[np.unique(group_array[train_index])]\n",
        "y_train = np.array([get_label(x) for x in train_files])\n",
        "\n",
        "val_files = filePath_list[np.unique(group_array[val_index])]\n",
        "y_val = np.array([get_label(x) for x in val_files])\n",
        "\n",
        "train_files.shape, val_files.shape"
      ],
      "metadata": {
        "colab": {
          "base_uri": "https://localhost:8080/"
        },
        "id": "M03twqqLi9cQ",
        "outputId": "a4b43b8a-732f-4d1e-9b04-e178a86be11b"
      },
      "execution_count": 44,
      "outputs": [
        {
          "output_type": "execute_result",
          "data": {
            "text/plain": [
              "((97,), (24,))"
            ]
          },
          "metadata": {},
          "execution_count": 44
        }
      ]
    },
    {
      "cell_type": "markdown",
      "source": [
        "### File to mne dataset"
      ],
      "metadata": {
        "id": "eA-J-GGwxVPM"
      }
    },
    {
      "cell_type": "code",
      "source": [
        "X_train_60_list =  get_mne_dataset_60(train_files)\n",
        "X_train_30_list =  get_mne_dataset_30(train_files)\n",
        "\n",
        "X_val_60_list =  get_mne_dataset_60(val_files)\n",
        "X_val_30_list =  get_mne_dataset_30(val_files)"
      ],
      "metadata": {
        "colab": {
          "base_uri": "https://localhost:8080/",
          "height": 145,
          "referenced_widgets": [
            "e3c9369c7690480483719234cb42b98c",
            "b2335071adae41488e664b61c89555f4",
            "0270837b19d34bb4a6f9f04923914ec3",
            "4a0c4cb618344e33bebb3ae1446c1ea2",
            "262af6332eb84709a8fcb48d61a4bfa4",
            "fa2c5ccacc79413a9ae3da89c5741dc3",
            "4dadb99b92a64b889acd02d1b8134233",
            "4e5a9a69c2c741e9945d5917b51d1549",
            "e4232438863949f39eac80587096a777",
            "95471fb89a0345179391c2c7e6361b7d",
            "31c2e58c6c844fde8df89e2249337ab0",
            "e54c030fa67b415e8dbf93ef3f009001",
            "a0ecb1de107b4fbbb6142e67e170d660",
            "307ac2065a1e42e5bd50e67ebd773f96",
            "0708dcd334104581acf10c83169a3496",
            "2c8e48dad1f34a5e9a9f107fc1ca2be8",
            "1b1f59ec55a44f60b091bf76f7618691",
            "64cb68cd70b8426b8d0ae50497d41a4f",
            "6f4f4da28f364027b99b318af0d3ff4e",
            "09cecacd290e46c9bb845f3bece12503",
            "c7880de0a3be4d8b8f11c5376b544194",
            "6c0933f430e84452ae8379457cf07961",
            "eb69e6d39f14426f817a4fa1c0a7c93e",
            "6b55bad82721423f87315883986de554",
            "265ef0f78b56467297fd817a7a9c9df2",
            "1eee848f4acc4a93b091e58c62b0277f",
            "61bc6c77aab543189cfb8f46483dacd2",
            "8aefed3ed7c74d61ac35e4e989c8da95",
            "10697f73569747eea251c87857d4d2c3",
            "47fb37cccc4e46c595266d18c0876ecd",
            "31256f61290a4d49a4dfefda9d1d288e",
            "f8b0f5d796804e5d9b4585bd7cff3dd7",
            "18ae46cf947446808994dc9619c1ae83",
            "4c32c80f0b17411abe735b038b701be7",
            "950ec7abdd9d4619b4d5f4fab9ac2164",
            "ebe6421ceac24b9e9ac8f521da2b8344",
            "49fe66b57b42423a83ab54f8c1b19f45",
            "04fcccca120d4ac48158eb556dae7057",
            "ee05584bdd69428991fd9bbc351717fd",
            "d2b7accc914b4eb2abeef831d055559d",
            "a159d67d1b3144109918ff96bb258ac8",
            "96ad745f627f4e31b8efbcfd93c26d87",
            "890a912c0d7c4c239a43e58e7aec7a73",
            "4f71584344b54f59aed76bc1a7b659ed"
          ]
        },
        "id": "5jfQMra5kDYq",
        "outputId": "06c40fc1-db02-4d1c-9912-ea8545da957e"
      },
      "execution_count": 45,
      "outputs": [
        {
          "output_type": "display_data",
          "data": {
            "text/plain": [
              "  0%|          | 0/97 [00:00<?, ?it/s]"
            ],
            "application/vnd.jupyter.widget-view+json": {
              "version_major": 2,
              "version_minor": 0,
              "model_id": "e3c9369c7690480483719234cb42b98c"
            }
          },
          "metadata": {}
        },
        {
          "output_type": "display_data",
          "data": {
            "text/plain": [
              "  0%|          | 0/97 [00:00<?, ?it/s]"
            ],
            "application/vnd.jupyter.widget-view+json": {
              "version_major": 2,
              "version_minor": 0,
              "model_id": "e54c030fa67b415e8dbf93ef3f009001"
            }
          },
          "metadata": {}
        },
        {
          "output_type": "display_data",
          "data": {
            "text/plain": [
              "  0%|          | 0/24 [00:00<?, ?it/s]"
            ],
            "application/vnd.jupyter.widget-view+json": {
              "version_major": 2,
              "version_minor": 0,
              "model_id": "eb69e6d39f14426f817a4fa1c0a7c93e"
            }
          },
          "metadata": {}
        },
        {
          "output_type": "display_data",
          "data": {
            "text/plain": [
              "  0%|          | 0/24 [00:00<?, ?it/s]"
            ],
            "application/vnd.jupyter.widget-view+json": {
              "version_major": 2,
              "version_minor": 0,
              "model_id": "4c32c80f0b17411abe735b038b701be7"
            }
          },
          "metadata": {}
        }
      ]
    },
    {
      "cell_type": "markdown",
      "source": [
        "### Voiting"
      ],
      "metadata": {
        "id": "hgIN0xxPkvG7"
      }
    },
    {
      "cell_type": "code",
      "source": [
        "def Voting(model, X_60_data, X_30_data, y_true):\n",
        "    voit = np.zeros((2,2))\n",
        "    return_y_pred = []\n",
        "    for i in tqdm(range(len(y_true))):\n",
        "        X_60 = X_60_data[i]\n",
        "        X_30 = X_30_data[i]\n",
        "\n",
        "        X_60 = np.moveaxis(X_60,1,2)\n",
        "        X_30 = np.moveaxis(X_30,1,2)\n",
        "\n",
        "        X_60 = scaler_60.transform(X_60)\n",
        "        X_30 = scaler_30.transform(X_30)\n",
        "\n",
        "        y_preds = model.predict((X_60, X_30), verbose=0)\n",
        "        y_preds = np.squeeze(np.where(y_preds >= 0.5, 1, 0), axis=-1)\n",
        "\n",
        "        y_pred = np.argmax(np.bincount(y_preds))\n",
        "        y = y_true[i]\n",
        "        voit[y,y_pred] += 1\n",
        "\n",
        "        return_y_pred.append(y_pred)\n",
        "    return voit, np.array(return_y_pred)"
      ],
      "metadata": {
        "id": "aat0KR0-kW_J"
      },
      "execution_count": 46,
      "outputs": []
    },
    {
      "cell_type": "markdown",
      "source": [
        "### Validation data set Evaluation\n",
        "* Get confusion metrics.\n",
        "* Get Prescision, Recall & F1 Score\n",
        "* Plot Confusion metrics\n",
        "```\n",
        "24 person data took for validation.\n",
        "```"
      ],
      "metadata": {
        "id": "9Tmgd_MMxcGs"
      }
    },
    {
      "cell_type": "markdown",
      "source": [
        "#### Get confusion matrix & predicted value"
      ],
      "metadata": {
        "id": "BDVLJvMmyipP"
      }
    },
    {
      "cell_type": "code",
      "source": [
        "val_vote, val_y_pred  = Voting(load_model, X_val_60_list, X_val_30_list, y_val)\n",
        "val_vote"
      ],
      "metadata": {
        "colab": {
          "base_uri": "https://localhost:8080/",
          "height": 84,
          "referenced_widgets": [
            "8ad6af1b97d241169841444e747663e5",
            "fdd65e8e857a4bd1ad69d08b6ae5850a",
            "55a2569ebdf84210ae4ddcd56ab0864f",
            "75da462b6b7e44528cd92a9778eac77a",
            "55207f0b8f1344f7a6370bf33680aaea",
            "b0b0bbf6b245478b991df2ee7e549698",
            "cef7035aab0943478c5845d2c17d2877",
            "baac51f1ce694cc89230b345fde90318",
            "9e25e758d991410bbc6eba99ac52f727",
            "a32a720156fc4e3fb550926c3968ecc1",
            "5be3ef1ba99049b0af198970810c9db6"
          ]
        },
        "id": "reDNjYLSlnp0",
        "outputId": "c394bf42-51fa-4774-c0e0-7065292be2f8"
      },
      "execution_count": 47,
      "outputs": [
        {
          "output_type": "display_data",
          "data": {
            "text/plain": [
              "  0%|          | 0/24 [00:00<?, ?it/s]"
            ],
            "application/vnd.jupyter.widget-view+json": {
              "version_major": 2,
              "version_minor": 0,
              "model_id": "8ad6af1b97d241169841444e747663e5"
            }
          },
          "metadata": {}
        },
        {
          "output_type": "execute_result",
          "data": {
            "text/plain": [
              "array([[ 8.,  1.],\n",
              "       [ 0., 15.]])"
            ]
          },
          "metadata": {},
          "execution_count": 47
        }
      ]
    },
    {
      "cell_type": "markdown",
      "source": [
        "#### Print Prescision, Recall & F1 Score"
      ],
      "metadata": {
        "id": "eHOmvibrywcY"
      }
    },
    {
      "cell_type": "code",
      "source": [
        "getPrescisionRecallF1(y_val, val_y_pred, title = \"validation\")"
      ],
      "metadata": {
        "colab": {
          "base_uri": "https://localhost:8080/"
        },
        "id": "ZerQKY4urtIR",
        "outputId": "a3eaa1af-7c98-4fbf-dd1c-afac77b46cfb"
      },
      "execution_count": 48,
      "outputs": [
        {
          "output_type": "stream",
          "name": "stdout",
          "text": [
            "_________________validation______________________\n",
            "\n",
            " Metrics       Control         ADHD        Average  \n",
            "____________________________________________________\n",
            "Precision       1.0000        0.9375        0.9688  \n",
            "  Recall        0.8889        1.0000        0.9444  \n",
            " F1 Score       0.9412        0.9677        0.9545  \n",
            " Accuracy       0.8889        1.0000        0.9583  \n"
          ]
        }
      ]
    },
    {
      "cell_type": "markdown",
      "source": [
        "#### Plot Confusion matrix"
      ],
      "metadata": {
        "id": "bNDNNx7yy7YQ"
      }
    },
    {
      "cell_type": "code",
      "source": [
        "make_confusion_matrix(y_val, val_y_pred, [\"Healthy\", \"ADHD\"], title=\"Confusion Matrix validation Person (24)\")"
      ],
      "metadata": {
        "colab": {
          "base_uri": "https://localhost:8080/",
          "height": 815
        },
        "id": "x16jlXqPpyvg",
        "outputId": "3cf062f3-d58c-4857-8fd5-73c09a5ae731"
      },
      "execution_count": null,
      "outputs": [
        {
          "output_type": "display_data",
          "data": {
            "text/plain": [
              "<Figure size 1000x1000 with 2 Axes>"
            ],
            "image/png": "[encoded data removed]"
          },
          "metadata": {}
        }
      ]
    },
    {
      "cell_type": "markdown",
      "source": [
        "### Training data set Evaluation\n",
        "* Get confusion metrics.\n",
        "* Get Prescision, Recall & F1 Score\n",
        "* Plot Confusion metrics\n",
        "```\n",
        "97 person data took for Training.\n",
        "```"
      ],
      "metadata": {
        "id": "FkVo_5m4yIE4"
      }
    },
    {
      "cell_type": "markdown",
      "source": [
        "#### Get confusion matrix & predicted value"
      ],
      "metadata": {
        "id": "hvOhsp8Eyr6P"
      }
    },
    {
      "cell_type": "code",
      "source": [
        "train_vote, train_y_pred = Voting(load_model, X_train_60_list, X_train_30_list, y_train)\n",
        "train_vote"
      ],
      "metadata": {
        "colab": {
          "base_uri": "https://localhost:8080/",
          "height": 84,
          "referenced_widgets": [
            "f3d4f5f51c2e4b69ac6ab2c88ce99589",
            "b52034e7e6e649b9a375f58eadb67bc3",
            "a7a0590fcf48461a9cd1e64e488008b1",
            "4b92b37dd8a2416db71b8f3dc058bc0d",
            "09392708a4aa4ef091a7e869ef8380ed",
            "26c3fb582b5e4858b4a66f7856293c10",
            "6dfe90a807144b55a30e503b9168a49c",
            "fd04fc1ebb454792a830e358bf7bd024",
            "750082a887de48f4b4333145e7e57cbf",
            "a06d91c6b00c42bd8060edbfe440dc5f",
            "5138caa9d7144eaa94b27a2915d9e268"
          ]
        },
        "id": "1_CWlITQl62l",
        "outputId": "3ca84010-907b-4bd3-845c-e7c348462d55"
      },
      "execution_count": 49,
      "outputs": [
        {
          "output_type": "display_data",
          "data": {
            "text/plain": [
              "  0%|          | 0/97 [00:00<?, ?it/s]"
            ],
            "application/vnd.jupyter.widget-view+json": {
              "version_major": 2,
              "version_minor": 0,
              "model_id": "f3d4f5f51c2e4b69ac6ab2c88ce99589"
            }
          },
          "metadata": {}
        },
        {
          "output_type": "execute_result",
          "data": {
            "text/plain": [
              "array([[51.,  0.],\n",
              "       [ 0., 46.]])"
            ]
          },
          "metadata": {},
          "execution_count": 49
        }
      ]
    },
    {
      "cell_type": "markdown",
      "source": [
        "#### Print Prescision, Recall & F1 Score"
      ],
      "metadata": {
        "id": "itv0BaYYy3sg"
      }
    },
    {
      "cell_type": "code",
      "source": [
        "getPrescisionRecallF1(y_train, train_y_pred, title = \"Training\")"
      ],
      "metadata": {
        "colab": {
          "base_uri": "https://localhost:8080/"
        },
        "id": "CRDmIpaeuWSr",
        "outputId": "4911de01-98b8-4cd2-ab1b-b80e8ef4b61e"
      },
      "execution_count": 50,
      "outputs": [
        {
          "output_type": "stream",
          "name": "stdout",
          "text": [
            "_________________Training______________________\n",
            "\n",
            " Metrics       Control         ADHD        Average  \n",
            "____________________________________________________\n",
            "Precision       1.0000        1.0000        1.0000  \n",
            "  Recall        1.0000        1.0000        1.0000  \n",
            " F1 Score       1.0000        1.0000        1.0000  \n",
            " Accuracy       1.0000        1.0000        1.0000  \n"
          ]
        }
      ]
    },
    {
      "cell_type": "markdown",
      "source": [
        "#### Plot Confusion matrix"
      ],
      "metadata": {
        "id": "XTluY3O2zAxT"
      }
    },
    {
      "cell_type": "code",
      "source": [
        "make_confusion_matrix(y_train, train_y_pred, [\"Healthy\", \"ADHD\"], title=\"Confusion Matrix Training Person (97)\")"
      ],
      "metadata": {
        "colab": {
          "base_uri": "https://localhost:8080/",
          "height": 815
        },
        "id": "pzV7E4fBqOIw",
        "outputId": "b663edd7-895b-44d2-8529-4d008d4f99b7"
      },
      "execution_count": null,
      "outputs": [
        {
          "output_type": "display_data",
          "data": {
            "text/plain": [
              "<Figure size 1000x1000 with 2 Axes>"
            ],
            "image/png": "[encoded data removed]"
          },
          "metadata": {}
        }
      ]
    },
    {
      "cell_type": "markdown",
      "source": [
        "### Total dataset Evaluation\n",
        "* Get confusion metrics.\n",
        "* Get Prescision, Recall & F1 Score\n",
        "* Plot Confusion metrics\n",
        "```\n",
        "Total 121 person dataset evaluate\n",
        "```"
      ],
      "metadata": {
        "id": "AF8RdRyPySlv"
      }
    },
    {
      "cell_type": "markdown",
      "source": [
        "#### Get confusion matrix & predicted value"
      ],
      "metadata": {
        "id": "cR_mceEtyt4H"
      }
    },
    {
      "cell_type": "code",
      "source": [
        "total_vote, total_y_pred =  Voting(load_model, data_list_60, data_list_30, labels_list)\n",
        "total_vote"
      ],
      "metadata": {
        "colab": {
          "base_uri": "https://localhost:8080/",
          "height": 84,
          "referenced_widgets": [
            "8d239c26466c4e2196bd2b06412b0d34",
            "e8bc72ede24947c29a697ae0dffc985b",
            "daf870ef4eef4b64b352b65536c63940",
            "2be3e98dd27a4b398ce71d976d010742",
            "b7d1c095ac814f69b94464d82c1393a1",
            "bf2a7fdd21d3426ab4bbd514df2816f3",
            "967ec2efcb924edfa2dcb9c876a8809d",
            "1c0cb85308b945908d4de7d5d3c8bf3c",
            "13cb1e0041b04e1f886db1740f763447",
            "4040ad3a945f40e696c21062519febac",
            "88260319d7844c6d90a3803e8884afe8"
          ]
        },
        "id": "cJAJAly7mJDl",
        "outputId": "6119cec4-1456-4a31-9141-e06c9fb61081"
      },
      "execution_count": 53,
      "outputs": [
        {
          "output_type": "display_data",
          "data": {
            "text/plain": [
              "  0%|          | 0/121 [00:00<?, ?it/s]"
            ],
            "application/vnd.jupyter.widget-view+json": {
              "version_major": 2,
              "version_minor": 0,
              "model_id": "8d239c26466c4e2196bd2b06412b0d34"
            }
          },
          "metadata": {}
        },
        {
          "output_type": "execute_result",
          "data": {
            "text/plain": [
              "array([[59.,  1.],\n",
              "       [ 0., 61.]])"
            ]
          },
          "metadata": {},
          "execution_count": 53
        }
      ]
    },
    {
      "cell_type": "markdown",
      "source": [
        "#### Print Prescision, Recall, F1 Score & Accuracy"
      ],
      "metadata": {
        "id": "pUWV8Lqpy5eO"
      }
    },
    {
      "cell_type": "code",
      "source": [
        "getPrescisionRecallF1(labels_list, total_y_pred, title = \"Total\")"
      ],
      "metadata": {
        "colab": {
          "base_uri": "https://localhost:8080/"
        },
        "id": "zlY3uwsHucyF",
        "outputId": "4dcae6b1-3e0a-4a41-8cbb-f8c89f11eb7b"
      },
      "execution_count": 54,
      "outputs": [
        {
          "output_type": "stream",
          "name": "stdout",
          "text": [
            "_________________Total______________________\n",
            "\n",
            " Metrics       Control         ADHD        Average  \n",
            "____________________________________________________\n",
            "Precision       1.0000        0.9839        0.9919  \n",
            "  Recall        0.9833        1.0000        0.9917  \n",
            " F1 Score       0.9916        0.9919        0.9917  \n",
            " Accuracy       0.9833        1.0000        0.9917  \n"
          ]
        }
      ]
    },
    {
      "cell_type": "markdown",
      "source": [
        "#### Plot Confusion matrix"
      ],
      "metadata": {
        "id": "O64xeb9KzE9w"
      }
    },
    {
      "cell_type": "code",
      "source": [
        "make_confusion_matrix(labels_list, total_y_pred, [\"Healthy\", \"ADHD\"], title=\"Confusion Matrix  Person (121)\")"
      ],
      "metadata": {
        "colab": {
          "base_uri": "https://localhost:8080/",
          "height": 815
        },
        "id": "TRX326WMpjxH",
        "outputId": "5a584b92-ce33-488c-8372-1e228b823915"
      },
      "execution_count": null,
      "outputs": [
        {
          "output_type": "display_data",
          "data": {
            "text/plain": [
              "<Figure size 1000x1000 with 2 Axes>"
            ],
            "image/png": "[encoded data removed]"
          },
          "metadata": {}
        }
      ]
    },
    {
      "cell_type": "code",
      "source": [],
      "metadata": {
        "id": "9f7zcjNXqe3h"
      },
      "execution_count": null,
      "outputs": []
    }
  ]
}